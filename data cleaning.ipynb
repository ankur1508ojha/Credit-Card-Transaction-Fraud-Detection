{
 "cells": [
  {
   "cell_type": "markdown",
   "id": "bc7b7edd",
   "metadata": {},
   "source": [
    "# Data Exploration and Data Cleaning( From cell 54)\n"
   ]
  },
  {
   "cell_type": "code",
   "execution_count": 110,
   "id": "b208d703",
   "metadata": {},
   "outputs": [],
   "source": [
    "import pandas as pd\n",
    "import scipy.stats\n",
    "import numpy as np\n",
    "import datetime as dt\n",
    "import seaborn as sns\n",
    "import matplotlib.pyplot as plt\n",
    "%matplotlib inline\n",
    "start_time = dt.datetime.now()"
   ]
  },
  {
   "cell_type": "code",
   "execution_count": 111,
   "id": "b1466f59",
   "metadata": {},
   "outputs": [],
   "source": [
    "data = pd.read_csv('card transactions.csv')"
   ]
  },
  {
   "cell_type": "code",
   "execution_count": 112,
   "id": "95a7cdda",
   "metadata": {},
   "outputs": [],
   "source": [
    "def mem_usage(pandas_obj):\n",
    "    if isinstance(pandas_obj,pd.DataFrame):\n",
    "        usage_b = pandas_obj.memory_usage(deep=True).sum()\n",
    "    else: # we assume if not a df it's a series\n",
    "        usage_b = pandas_obj.memory_usage(deep=True)\n",
    "    usage_mb = usage_b / 1024 ** 2 # convert bytes to megabytes\n",
    "    return \"{:03.2f} MB\".format(usage_mb)"
   ]
  },
  {
   "cell_type": "code",
   "execution_count": 113,
   "id": "64cdd8a4",
   "metadata": {},
   "outputs": [
    {
     "name": "stdout",
     "output_type": "stream",
     "text": [
      "39.51 MB\n"
     ]
    }
   ],
   "source": [
    "print(mem_usage(data))"
   ]
  },
  {
   "cell_type": "code",
   "execution_count": 114,
   "id": "151a1371",
   "metadata": {},
   "outputs": [
    {
     "data": {
      "text/html": [
       "<div>\n",
       "<style scoped>\n",
       "    .dataframe tbody tr th:only-of-type {\n",
       "        vertical-align: middle;\n",
       "    }\n",
       "\n",
       "    .dataframe tbody tr th {\n",
       "        vertical-align: top;\n",
       "    }\n",
       "\n",
       "    .dataframe thead th {\n",
       "        text-align: right;\n",
       "    }\n",
       "</style>\n",
       "<table border=\"1\" class=\"dataframe\">\n",
       "  <thead>\n",
       "    <tr style=\"text-align: right;\">\n",
       "      <th></th>\n",
       "      <th>Recnum</th>\n",
       "      <th>Cardnum</th>\n",
       "      <th>Date</th>\n",
       "      <th>Merchnum</th>\n",
       "      <th>Merch description</th>\n",
       "      <th>Merch state</th>\n",
       "      <th>Merch zip</th>\n",
       "      <th>Transtype</th>\n",
       "      <th>Amount</th>\n",
       "      <th>Fraud</th>\n",
       "      <th>Unnamed: 10</th>\n",
       "      <th>Unnamed: 11</th>\n",
       "      <th>Unnamed: 12</th>\n",
       "      <th>Unnamed: 13</th>\n",
       "      <th>Unnamed: 14</th>\n",
       "      <th>Unnamed: 15</th>\n",
       "      <th>Unnamed: 16</th>\n",
       "      <th>Unnamed: 17</th>\n",
       "    </tr>\n",
       "  </thead>\n",
       "  <tbody>\n",
       "    <tr>\n",
       "      <th>0</th>\n",
       "      <td>1</td>\n",
       "      <td>5142190439</td>\n",
       "      <td>1/1/10</td>\n",
       "      <td>5509006296254</td>\n",
       "      <td>FEDEX SHP 12/23/09 AB#</td>\n",
       "      <td>TN</td>\n",
       "      <td>38118.0</td>\n",
       "      <td>P</td>\n",
       "      <td>3.62</td>\n",
       "      <td>0</td>\n",
       "      <td>NaN</td>\n",
       "      <td>NaN</td>\n",
       "      <td>NaN</td>\n",
       "      <td>NaN</td>\n",
       "      <td>NaN</td>\n",
       "      <td>NaN</td>\n",
       "      <td>NaN</td>\n",
       "      <td>NaN</td>\n",
       "    </tr>\n",
       "    <tr>\n",
       "      <th>1</th>\n",
       "      <td>2</td>\n",
       "      <td>5142183973</td>\n",
       "      <td>1/1/10</td>\n",
       "      <td>61003026333</td>\n",
       "      <td>SERVICE MERCHANDISE #81</td>\n",
       "      <td>MA</td>\n",
       "      <td>1803.0</td>\n",
       "      <td>P</td>\n",
       "      <td>31.42</td>\n",
       "      <td>0</td>\n",
       "      <td>NaN</td>\n",
       "      <td>NaN</td>\n",
       "      <td>NaN</td>\n",
       "      <td>NaN</td>\n",
       "      <td>NaN</td>\n",
       "      <td>NaN</td>\n",
       "      <td>NaN</td>\n",
       "      <td>NaN</td>\n",
       "    </tr>\n",
       "    <tr>\n",
       "      <th>2</th>\n",
       "      <td>3</td>\n",
       "      <td>5142131721</td>\n",
       "      <td>1/1/10</td>\n",
       "      <td>4503082993600</td>\n",
       "      <td>OFFICE DEPOT #191</td>\n",
       "      <td>MD</td>\n",
       "      <td>20706.0</td>\n",
       "      <td>P</td>\n",
       "      <td>178.49</td>\n",
       "      <td>0</td>\n",
       "      <td>NaN</td>\n",
       "      <td>NaN</td>\n",
       "      <td>NaN</td>\n",
       "      <td>NaN</td>\n",
       "      <td>NaN</td>\n",
       "      <td>NaN</td>\n",
       "      <td>NaN</td>\n",
       "      <td>NaN</td>\n",
       "    </tr>\n",
       "    <tr>\n",
       "      <th>3</th>\n",
       "      <td>4</td>\n",
       "      <td>5142148452</td>\n",
       "      <td>1/1/10</td>\n",
       "      <td>5509006296254</td>\n",
       "      <td>FEDEX SHP 12/28/09 AB#</td>\n",
       "      <td>TN</td>\n",
       "      <td>38118.0</td>\n",
       "      <td>P</td>\n",
       "      <td>3.62</td>\n",
       "      <td>0</td>\n",
       "      <td>NaN</td>\n",
       "      <td>NaN</td>\n",
       "      <td>NaN</td>\n",
       "      <td>NaN</td>\n",
       "      <td>NaN</td>\n",
       "      <td>NaN</td>\n",
       "      <td>NaN</td>\n",
       "      <td>NaN</td>\n",
       "    </tr>\n",
       "    <tr>\n",
       "      <th>4</th>\n",
       "      <td>5</td>\n",
       "      <td>5142190439</td>\n",
       "      <td>1/1/10</td>\n",
       "      <td>5509006296254</td>\n",
       "      <td>FEDEX SHP 12/23/09 AB#</td>\n",
       "      <td>TN</td>\n",
       "      <td>38118.0</td>\n",
       "      <td>P</td>\n",
       "      <td>3.62</td>\n",
       "      <td>0</td>\n",
       "      <td>NaN</td>\n",
       "      <td>NaN</td>\n",
       "      <td>NaN</td>\n",
       "      <td>NaN</td>\n",
       "      <td>NaN</td>\n",
       "      <td>NaN</td>\n",
       "      <td>NaN</td>\n",
       "      <td>NaN</td>\n",
       "    </tr>\n",
       "  </tbody>\n",
       "</table>\n",
       "</div>"
      ],
      "text/plain": [
       "   Recnum     Cardnum    Date       Merchnum        Merch description  \\\n",
       "0       1  5142190439  1/1/10  5509006296254   FEDEX SHP 12/23/09 AB#   \n",
       "1       2  5142183973  1/1/10    61003026333  SERVICE MERCHANDISE #81   \n",
       "2       3  5142131721  1/1/10  4503082993600        OFFICE DEPOT #191   \n",
       "3       4  5142148452  1/1/10  5509006296254   FEDEX SHP 12/28/09 AB#   \n",
       "4       5  5142190439  1/1/10  5509006296254   FEDEX SHP 12/23/09 AB#   \n",
       "\n",
       "  Merch state  Merch zip Transtype  Amount  Fraud  Unnamed: 10  Unnamed: 11  \\\n",
       "0          TN    38118.0         P    3.62      0          NaN          NaN   \n",
       "1          MA     1803.0         P   31.42      0          NaN          NaN   \n",
       "2          MD    20706.0         P  178.49      0          NaN          NaN   \n",
       "3          TN    38118.0         P    3.62      0          NaN          NaN   \n",
       "4          TN    38118.0         P    3.62      0          NaN          NaN   \n",
       "\n",
       "   Unnamed: 12  Unnamed: 13  Unnamed: 14  Unnamed: 15  Unnamed: 16  \\\n",
       "0          NaN          NaN          NaN          NaN          NaN   \n",
       "1          NaN          NaN          NaN          NaN          NaN   \n",
       "2          NaN          NaN          NaN          NaN          NaN   \n",
       "3          NaN          NaN          NaN          NaN          NaN   \n",
       "4          NaN          NaN          NaN          NaN          NaN   \n",
       "\n",
       "   Unnamed: 17  \n",
       "0          NaN  \n",
       "1          NaN  \n",
       "2          NaN  \n",
       "3          NaN  \n",
       "4          NaN  "
      ]
     },
     "execution_count": 114,
     "metadata": {},
     "output_type": "execute_result"
    }
   ],
   "source": [
    "data.head()"
   ]
  },
  {
   "cell_type": "code",
   "execution_count": 115,
   "id": "148ec774",
   "metadata": {
    "scrolled": true
   },
   "outputs": [
    {
     "data": {
      "text/plain": [
       "(96753, 18)"
      ]
     },
     "execution_count": 115,
     "metadata": {},
     "output_type": "execute_result"
    }
   ],
   "source": [
    "data.shape"
   ]
  },
  {
   "cell_type": "code",
   "execution_count": 116,
   "id": "3168a2a1",
   "metadata": {
    "collapsed": true
   },
   "outputs": [
    {
     "name": "stdout",
     "output_type": "stream",
     "text": [
      "<class 'pandas.core.frame.DataFrame'>\n",
      "RangeIndex: 96753 entries, 0 to 96752\n",
      "Data columns (total 18 columns):\n",
      " #   Column             Non-Null Count  Dtype  \n",
      "---  ------             --------------  -----  \n",
      " 0   Recnum             96753 non-null  int64  \n",
      " 1   Cardnum            96753 non-null  int64  \n",
      " 2   Date               96753 non-null  object \n",
      " 3   Merchnum           93378 non-null  object \n",
      " 4   Merch description  96753 non-null  object \n",
      " 5   Merch state        95558 non-null  object \n",
      " 6   Merch zip          92097 non-null  float64\n",
      " 7   Transtype          96753 non-null  object \n",
      " 8   Amount             96753 non-null  float64\n",
      " 9   Fraud              96753 non-null  int64  \n",
      " 10  Unnamed: 10        0 non-null      float64\n",
      " 11  Unnamed: 11        0 non-null      float64\n",
      " 12  Unnamed: 12        0 non-null      float64\n",
      " 13  Unnamed: 13        0 non-null      float64\n",
      " 14  Unnamed: 14        0 non-null      float64\n",
      " 15  Unnamed: 15        0 non-null      float64\n",
      " 16  Unnamed: 16        0 non-null      float64\n",
      " 17  Unnamed: 17        0 non-null      float64\n",
      "dtypes: float64(10), int64(3), object(5)\n",
      "memory usage: 13.3+ MB\n"
     ]
    }
   ],
   "source": [
    "data.info()"
   ]
  },
  {
   "cell_type": "code",
   "execution_count": 117,
   "id": "32914a1c",
   "metadata": {},
   "outputs": [],
   "source": [
    "data['Date']=pd.to_datetime(data['Date'])"
   ]
  },
  {
   "cell_type": "code",
   "execution_count": 118,
   "id": "bc33f8fc",
   "metadata": {},
   "outputs": [
    {
     "data": {
      "text/html": [
       "<div>\n",
       "<style scoped>\n",
       "    .dataframe tbody tr th:only-of-type {\n",
       "        vertical-align: middle;\n",
       "    }\n",
       "\n",
       "    .dataframe tbody tr th {\n",
       "        vertical-align: top;\n",
       "    }\n",
       "\n",
       "    .dataframe thead th {\n",
       "        text-align: right;\n",
       "    }\n",
       "</style>\n",
       "<table border=\"1\" class=\"dataframe\">\n",
       "  <thead>\n",
       "    <tr style=\"text-align: right;\">\n",
       "      <th></th>\n",
       "      <th>Date</th>\n",
       "      <th>Amount</th>\n",
       "    </tr>\n",
       "  </thead>\n",
       "  <tbody>\n",
       "    <tr>\n",
       "      <th>0</th>\n",
       "      <td>2010-01-01</td>\n",
       "      <td>3.62</td>\n",
       "    </tr>\n",
       "    <tr>\n",
       "      <th>1</th>\n",
       "      <td>2010-01-01</td>\n",
       "      <td>31.42</td>\n",
       "    </tr>\n",
       "    <tr>\n",
       "      <th>2</th>\n",
       "      <td>2010-01-01</td>\n",
       "      <td>178.49</td>\n",
       "    </tr>\n",
       "    <tr>\n",
       "      <th>3</th>\n",
       "      <td>2010-01-01</td>\n",
       "      <td>3.62</td>\n",
       "    </tr>\n",
       "    <tr>\n",
       "      <th>4</th>\n",
       "      <td>2010-01-01</td>\n",
       "      <td>3.62</td>\n",
       "    </tr>\n",
       "  </tbody>\n",
       "</table>\n",
       "</div>"
      ],
      "text/plain": [
       "        Date  Amount\n",
       "0 2010-01-01    3.62\n",
       "1 2010-01-01   31.42\n",
       "2 2010-01-01  178.49\n",
       "3 2010-01-01    3.62\n",
       "4 2010-01-01    3.62"
      ]
     },
     "execution_count": 118,
     "metadata": {},
     "output_type": "execute_result"
    }
   ],
   "source": [
    "data_numeric = data.iloc[: , [2,8]].copy()\n",
    "data_numeric.head()"
   ]
  },
  {
   "cell_type": "code",
   "execution_count": 119,
   "id": "44fe3a57",
   "metadata": {},
   "outputs": [
    {
     "name": "stdout",
     "output_type": "stream",
     "text": [
      "0.01\n",
      "3102045.53\n",
      "427.8856774466942\n",
      "10006.140301904436\n"
     ]
    }
   ],
   "source": [
    "print(data_numeric['Amount'].min())\n",
    "print(data_numeric['Amount'].max())\n",
    "print(data_numeric['Amount'].mean())\n",
    "print(data_numeric['Amount'].std())"
   ]
  },
  {
   "cell_type": "code",
   "execution_count": 120,
   "id": "ec8e3e5c",
   "metadata": {},
   "outputs": [
    {
     "name": "stdout",
     "output_type": "stream",
     "text": [
      "2010-01-01 00:00:00\n",
      "2010-12-31 00:00:00\n"
     ]
    }
   ],
   "source": [
    "print(data_numeric['Date'].min())\n",
    "print(data_numeric['Date'].max())"
   ]
  },
  {
   "cell_type": "code",
   "execution_count": 121,
   "id": "5a2cc948",
   "metadata": {},
   "outputs": [],
   "source": [
    "data = data.iloc[: , [0,1,2,3,4,5,6,7,8,9]].copy()"
   ]
  },
  {
   "cell_type": "code",
   "execution_count": null,
   "id": "86e52286",
   "metadata": {},
   "outputs": [],
   "source": [
    "data.head()"
   ]
  },
  {
   "cell_type": "code",
   "execution_count": null,
   "id": "bff062dd",
   "metadata": {},
   "outputs": [],
   "source": [
    "data.info()"
   ]
  },
  {
   "cell_type": "code",
   "execution_count": 133,
   "id": "b678399e",
   "metadata": {},
   "outputs": [],
   "source": [
    "def count_zeros(df_cleaned):\n",
    "    count=0\n",
    "    for i in df_cleaned:\n",
    "        if i==0:\n",
    "            count+=1\n",
    "    return count"
   ]
  },
  {
   "cell_type": "code",
   "execution_count": 135,
   "id": "cd8aec02",
   "metadata": {},
   "outputs": [
    {
     "data": {
      "text/html": [
       "<div>\n",
       "<style scoped>\n",
       "    .dataframe tbody tr th:only-of-type {\n",
       "        vertical-align: middle;\n",
       "    }\n",
       "\n",
       "    .dataframe tbody tr th {\n",
       "        vertical-align: top;\n",
       "    }\n",
       "\n",
       "    .dataframe thead th {\n",
       "        text-align: right;\n",
       "    }\n",
       "</style>\n",
       "<table border=\"1\" class=\"dataframe\">\n",
       "  <thead>\n",
       "    <tr style=\"text-align: right;\">\n",
       "      <th></th>\n",
       "      <th>Field Name</th>\n",
       "      <th>Field Type</th>\n",
       "      <th># Records Have Values</th>\n",
       "      <th>% Populated</th>\n",
       "      <th># Zeros</th>\n",
       "      <th># Unique Values</th>\n",
       "      <th>Most Common</th>\n",
       "    </tr>\n",
       "  </thead>\n",
       "  <tbody>\n",
       "    <tr>\n",
       "      <th>0</th>\n",
       "      <td>Recnum</td>\n",
       "      <td>categorical</td>\n",
       "      <td>96753</td>\n",
       "      <td>100.00%</td>\n",
       "      <td>0</td>\n",
       "      <td>96753</td>\n",
       "      <td>1</td>\n",
       "    </tr>\n",
       "    <tr>\n",
       "      <th>1</th>\n",
       "      <td>Cardnum</td>\n",
       "      <td>categorical</td>\n",
       "      <td>96753</td>\n",
       "      <td>100.00%</td>\n",
       "      <td>0</td>\n",
       "      <td>1645</td>\n",
       "      <td>5142148452</td>\n",
       "    </tr>\n",
       "    <tr>\n",
       "      <th>2</th>\n",
       "      <td>Date</td>\n",
       "      <td>categorical</td>\n",
       "      <td>96753</td>\n",
       "      <td>100.00%</td>\n",
       "      <td>0</td>\n",
       "      <td>365</td>\n",
       "      <td>2010-02-28 00:00:00</td>\n",
       "    </tr>\n",
       "    <tr>\n",
       "      <th>3</th>\n",
       "      <td>Merchnum</td>\n",
       "      <td>categorical</td>\n",
       "      <td>93378</td>\n",
       "      <td>96.51%</td>\n",
       "      <td>0</td>\n",
       "      <td>13091</td>\n",
       "      <td>930090121224</td>\n",
       "    </tr>\n",
       "    <tr>\n",
       "      <th>4</th>\n",
       "      <td>Merch description</td>\n",
       "      <td>categorical</td>\n",
       "      <td>96753</td>\n",
       "      <td>100.00%</td>\n",
       "      <td>0</td>\n",
       "      <td>13126</td>\n",
       "      <td>GSA-FSS-ADV</td>\n",
       "    </tr>\n",
       "    <tr>\n",
       "      <th>5</th>\n",
       "      <td>Merch state</td>\n",
       "      <td>categorical</td>\n",
       "      <td>95558</td>\n",
       "      <td>98.76%</td>\n",
       "      <td>0</td>\n",
       "      <td>227</td>\n",
       "      <td>TN</td>\n",
       "    </tr>\n",
       "    <tr>\n",
       "      <th>6</th>\n",
       "      <td>Merch zip</td>\n",
       "      <td>categorical</td>\n",
       "      <td>92097</td>\n",
       "      <td>95.19%</td>\n",
       "      <td>0</td>\n",
       "      <td>4567</td>\n",
       "      <td>38118.0</td>\n",
       "    </tr>\n",
       "    <tr>\n",
       "      <th>7</th>\n",
       "      <td>Transtype</td>\n",
       "      <td>categorical</td>\n",
       "      <td>96753</td>\n",
       "      <td>100.00%</td>\n",
       "      <td>0</td>\n",
       "      <td>4</td>\n",
       "      <td>P</td>\n",
       "    </tr>\n",
       "    <tr>\n",
       "      <th>8</th>\n",
       "      <td>Amount</td>\n",
       "      <td>categorical</td>\n",
       "      <td>96753</td>\n",
       "      <td>100.00%</td>\n",
       "      <td>0</td>\n",
       "      <td>34909</td>\n",
       "      <td>3.62</td>\n",
       "    </tr>\n",
       "    <tr>\n",
       "      <th>9</th>\n",
       "      <td>Fraud</td>\n",
       "      <td>categorical</td>\n",
       "      <td>96753</td>\n",
       "      <td>100.00%</td>\n",
       "      <td>95694</td>\n",
       "      <td>2</td>\n",
       "      <td>0</td>\n",
       "    </tr>\n",
       "  </tbody>\n",
       "</table>\n",
       "</div>"
      ],
      "text/plain": [
       "          Field Name   Field Type  # Records Have Values % Populated  # Zeros  \\\n",
       "0             Recnum  categorical                  96753     100.00%        0   \n",
       "1            Cardnum  categorical                  96753     100.00%        0   \n",
       "2               Date  categorical                  96753     100.00%        0   \n",
       "3           Merchnum  categorical                  93378      96.51%        0   \n",
       "4  Merch description  categorical                  96753     100.00%        0   \n",
       "5        Merch state  categorical                  95558      98.76%        0   \n",
       "6          Merch zip  categorical                  92097      95.19%        0   \n",
       "7          Transtype  categorical                  96753     100.00%        0   \n",
       "8             Amount  categorical                  96753     100.00%        0   \n",
       "9              Fraud  categorical                  96753     100.00%    95694   \n",
       "\n",
       "   # Unique Values          Most Common  \n",
       "0            96753                    1  \n",
       "1             1645           5142148452  \n",
       "2              365  2010-02-28 00:00:00  \n",
       "3            13091         930090121224  \n",
       "4            13126          GSA-FSS-ADV  \n",
       "5              227                   TN  \n",
       "6             4567              38118.0  \n",
       "7                4                    P  \n",
       "8            34909                 3.62  \n",
       "9                2                    0  "
      ]
     },
     "execution_count": 135,
     "metadata": {},
     "output_type": "execute_result"
    }
   ],
   "source": [
    "statistics_of_data = []\n",
    "for col in [\"Recnum\",\"Cardnum\",\"Date\",\"Merchnum\",\"Merch description\",\"Merch state\",\"Merch zip\",\"Transtype\",\"Amount\",\"Fraud\"]:\n",
    "    statistics_of_data.append((col,\n",
    "                             'categorical',\n",
    "                             data[col].notnull().sum(),\n",
    "                             f'{data[col].notnull().sum()/data.shape[0]*100:.2f}%',  # change made here\n",
    "                             count_zeros(data[col]),\n",
    "                             data[col].nunique(),\n",
    "                            data[col].mode()[0]\n",
    "                            \n",
    "                             ))\n",
    "stats_df = pd.DataFrame(statistics_of_data, columns=['Field Name', 'Field Type','# Records Have Values', '% Populated', '# Zeros','# Unique Values', 'Most Common',])\n",
    "stats_df"
   ]
  },
  {
   "cell_type": "code",
   "execution_count": null,
   "id": "1bbff3c8",
   "metadata": {},
   "outputs": [],
   "source": []
  },
  {
   "cell_type": "code",
   "execution_count": 15,
   "id": "27855673",
   "metadata": {},
   "outputs": [],
   "source": [
    "# numericals=[\"Date\",'Amount']\n",
    "# categoricals=[\"Recnum \",\"Cardnum\",\"Merchnum \",\"Merch description\",\"Merch state\",\"Merch zip \",\"Transtype \",\"Fraud\"]"
   ]
  },
  {
   "cell_type": "code",
   "execution_count": 36,
   "id": "5d9a5552",
   "metadata": {},
   "outputs": [
    {
     "data": {
      "text/plain": [
       "(96753, 10)"
      ]
     },
     "execution_count": 36,
     "metadata": {},
     "output_type": "execute_result"
    }
   ],
   "source": [
    "data.shape"
   ]
  },
  {
   "cell_type": "code",
   "execution_count": 37,
   "id": "64b74e09",
   "metadata": {},
   "outputs": [],
   "source": [
    "import matplotlib.pylab as py\n",
    "params = {'legend.fontsize': 'x-large',\n",
    "          'figure.figsize': (12, 6),\n",
    "         'axes.labelsize': 'xx-large',\n",
    "         'axes.titlesize':'xx-large',\n",
    "         'xtick.labelsize':'large',\n",
    "         'ytick.labelsize':'large'}\n",
    "py.rcParams.update(params)\n"
   ]
  },
  {
   "cell_type": "code",
   "execution_count": 38,
   "id": "99cb5cf9",
   "metadata": {
    "collapsed": true
   },
   "outputs": [
    {
     "data": {
      "image/png": "[encoded data removed]",
      "text/plain": [
       "<Figure size 1200x600 with 1 Axes>"
      ]
     },
     "metadata": {},
     "output_type": "display_data"
    }
   ],
   "source": [
    "data['Cardnum'].value_counts().head(10).plot(kind = 'bar',figsize=(12,6),)\n",
    "plt.xlabel('Cardnum',fontsize=10)\n",
    "plt.ylabel('Count',fontsize=10)\n",
    "plt.savefig('1.png',bbox_inches='tight')\n",
    "plt.title(label=\"Top 10 most common cardnum used for Trx\",\n",
    "          fontsize=10,\n",
    "          color=\"green\")\n",
    "plt.legend(loc=\"upper right\")\n",
    "plt.xticks(fontsize=10)\n",
    "plt.show()\n"
   ]
  },
  {
   "cell_type": "code",
   "execution_count": 39,
   "id": "9154c580",
   "metadata": {
    "collapsed": true
   },
   "outputs": [
    {
     "data": {
      "image/png": "[encoded data removed]",
      "text/plain": [
       "<Figure size 1200x600 with 1 Axes>"
      ]
     },
     "metadata": {},
     "output_type": "display_data"
    }
   ],
   "source": [
    "data_numeric['Date'].value_counts().head(10).plot(kind = 'bar')\n",
    "plt.xlabel('Date')\n",
    "plt.ylabel('Count')\n",
    "plt.savefig('02Date.png',bbox_inches='tight')\n",
    "plt.title(label=\"Count of top 10 most common values in date\",\n",
    "          fontsize=15,\n",
    "          color=\"green\")\n",
    "plt.legend(loc=\"upper right\")\n",
    "plt.show()\n"
   ]
  },
  {
   "cell_type": "code",
   "execution_count": 40,
   "id": "9ed3f0ea",
   "metadata": {
    "collapsed": true
   },
   "outputs": [
    {
     "data": {
      "image/png": "[encoded data removed]",
      "text/plain": [
       "<Figure size 1200x600 with 1 Axes>"
      ]
     },
     "metadata": {},
     "output_type": "display_data"
    }
   ],
   "source": [
    "data['Merchnum'].value_counts().head(15).plot(kind = 'bar')\n",
    "plt.xlabel('Merchnum')\n",
    "plt.ylabel('Count')\n",
    "plt.yscale('log')\n",
    "plt.savefig('03Merchnum.png',bbox_inches='tight')\n",
    "plt.title(label=\"log scale count of Top 15 most common mechant numbers\",\n",
    "          fontsize=15,\n",
    "          color=\"green\")\n",
    "plt.legend(loc=\"upper right\")\n",
    "plt.show()"
   ]
  },
  {
   "cell_type": "code",
   "execution_count": 41,
   "id": "ac15c3a1",
   "metadata": {
    "collapsed": true
   },
   "outputs": [
    {
     "data": {
      "image/png": "[encoded data removed]",
      "text/plain": [
       "<Figure size 1200x600 with 1 Axes>"
      ]
     },
     "metadata": {},
     "output_type": "display_data"
    }
   ],
   "source": [
    "data['Merch description'].value_counts().head(15).plot(kind = 'bar')\n",
    "plt.xlabel('Merch description')\n",
    "plt.ylabel('Count')\n",
    "plt.savefig('04Merch description.png',bbox_inches='tight')\n",
    "plt.title(label=\"count of top 15 most common values in  Merchants description\",\n",
    "          fontsize=15,\n",
    "          color=\"green\")\n",
    "plt.legend(loc=\"upper right\")\n",
    "plt.show()\n"
   ]
  },
  {
   "cell_type": "code",
   "execution_count": 42,
   "id": "edbcc3cb",
   "metadata": {
    "collapsed": true
   },
   "outputs": [
    {
     "data": {
      "image/png": "[encoded data removed]",
      "text/plain": [
       "<Figure size 1200x600 with 1 Axes>"
      ]
     },
     "metadata": {},
     "output_type": "display_data"
    }
   ],
   "source": [
    "data['Merch state'].value_counts().head(15).plot(kind = 'bar')\n",
    "plt.xlabel('Merch state')\n",
    "plt.ylabel('Count')\n",
    "plt.savefig('05Merch state.png',bbox_inches='tight')\n",
    "plt.title(label=\" Count of Top 15 most common values in merchant state\",\n",
    "          fontsize=15,\n",
    "          color=\"green\")\n",
    "plt.legend(loc=\"upper right\")\n",
    "plt.show()"
   ]
  },
  {
   "cell_type": "code",
   "execution_count": 43,
   "id": "bd97af3b",
   "metadata": {
    "collapsed": true
   },
   "outputs": [
    {
     "data": {
      "image/png": "[encoded data removed]",
      "text/plain": [
       "<Figure size 1200x600 with 1 Axes>"
      ]
     },
     "metadata": {},
     "output_type": "display_data"
    }
   ],
   "source": [
    "data['Merch zip'].value_counts().head(15).plot(kind = 'bar')\n",
    "plt.xlabel('Merch zip')\n",
    "plt.ylabel('Count')\n",
    "plt.yscale('log')\n",
    "plt.savefig('06Merch zip.png',bbox_inches='tight')\n",
    "plt.title(label=\" log scale count of Top 15 most common merchant zip\",\n",
    "          fontsize=15,\n",
    "          color=\"green\")\n",
    "plt.legend(loc=\"upper right\")\n",
    "plt.show()"
   ]
  },
  {
   "cell_type": "code",
   "execution_count": 44,
   "id": "e807b988",
   "metadata": {
    "collapsed": true
   },
   "outputs": [
    {
     "data": {
      "image/png": "[encoded data removed]",
      "text/plain": [
       "<Figure size 1200x600 with 1 Axes>"
      ]
     },
     "metadata": {},
     "output_type": "display_data"
    }
   ],
   "source": [
    "data['Transtype'].value_counts().plot(kind = 'bar')\n",
    "plt.xlabel('Transtype')\n",
    "plt.ylabel('Count')\n",
    "plt.yscale('log')\n",
    "plt.savefig('07Transtype.png',bbox_inches='tight')\n",
    "plt.title(label=\"log scale count of each Transtype\",\n",
    "          fontsize=14,\n",
    "          color=\"green\")\n",
    "plt.legend(loc=\"upper right\")\n",
    "plt.show()"
   ]
  },
  {
   "cell_type": "code",
   "execution_count": 45,
   "id": "0e0af321",
   "metadata": {},
   "outputs": [],
   "source": [
    "import warnings\n",
    "warnings.filterwarnings('ignore')\n"
   ]
  },
  {
   "cell_type": "code",
   "execution_count": 46,
   "id": "59e898d3",
   "metadata": {
    "collapsed": true
   },
   "outputs": [
    {
     "data": {
      "image/png": "[encoded data removed]",
      "text/plain": [
       "<Figure size 1200x600 with 1 Axes>"
      ]
     },
     "metadata": {},
     "output_type": "display_data"
    }
   ],
   "source": [
    "floor = 40000\n",
    "amount = data_numeric[data_numeric['Amount'] <= floor]\n",
    "sns.distplot(amount['Amount'],bins = 100, kde = False)\n",
    "plt.xlabel('Amount')\n",
    "plt.ylabel('Count')\n",
    "plt.yscale('log')\n",
    "plt.title(label=\"log scale distribution of  transaction (amount<40000) in 100 bins\",\n",
    "          fontsize=20,\n",
    "          color=\"green\")\n",
    "\n",
    "\n",
    "plt.savefig('08Amount.png',bbox_inches = 'tight')\n"
   ]
  },
  {
   "cell_type": "code",
   "execution_count": 47,
   "id": "b91ca16c",
   "metadata": {
    "collapsed": true
   },
   "outputs": [
    {
     "data": {
      "image/png": "[encoded data removed]",
      "text/plain": [
       "<Figure size 1200x600 with 1 Axes>"
      ]
     },
     "metadata": {},
     "output_type": "display_data"
    }
   ],
   "source": [
    "data['Fraud'].value_counts().plot(kind = 'bar')\n",
    "plt.xlabel('Fraud')\n",
    "plt.ylabel('Count')\n",
    "plt.yscale('log')\n",
    "plt.ylim()\n",
    "plt.savefig('09Fraud.png',bbox_inches='tight')\n",
    "plt.title(label=\"log scale  Count of category fraud:1 and not_fraud:0\",\n",
    "          fontsize=15,\n",
    "          color=\"green\")\n",
    "plt.legend(loc=\"upper right\")\n",
    "plt.show()"
   ]
  },
  {
   "cell_type": "code",
   "execution_count": 48,
   "id": "868c521e",
   "metadata": {
    "scrolled": true
   },
   "outputs": [
    {
     "data": {
      "text/plain": [
       "1059"
      ]
     },
     "execution_count": 48,
     "metadata": {},
     "output_type": "execute_result"
    }
   ],
   "source": [
    "data['Fraud'].sum()"
   ]
  },
  {
   "cell_type": "code",
   "execution_count": 49,
   "id": "1c533ae4",
   "metadata": {},
   "outputs": [],
   "source": [
    "goods = data[data['Fraud'] == 0]\n",
    "bads = data[data['Fraud'] == 1]"
   ]
  },
  {
   "cell_type": "code",
   "execution_count": 50,
   "id": "70d81c27",
   "metadata": {},
   "outputs": [
    {
     "name": "stdout",
     "output_type": "stream",
     "text": [
      "96753\n"
     ]
    }
   ],
   "source": [
    "numrecords = len(data)\n",
    "print(numrecords)"
   ]
  },
  {
   "cell_type": "code",
   "execution_count": 51,
   "id": "1cd1782d",
   "metadata": {},
   "outputs": [
    {
     "name": "stdout",
     "output_type": "stream",
     "text": [
      "goods--> 95694\n",
      "bads---> 1059\n",
      "numrecords 96753\n"
     ]
    }
   ],
   "source": [
    "print(\"goods-->\",len(goods))\n",
    "print(\"bads--->\",len(bads))\n",
    "print(\"numrecords\",len(goods) + len(bads))"
   ]
  },
  {
   "cell_type": "code",
   "execution_count": 52,
   "id": "316adbe5",
   "metadata": {},
   "outputs": [
    {
     "data": {
      "text/plain": [
       "365"
      ]
     },
     "execution_count": 52,
     "metadata": {},
     "output_type": "execute_result"
    }
   ],
   "source": [
    "len(data_numeric['Date'].unique())"
   ]
  },
  {
   "cell_type": "code",
   "execution_count": 53,
   "id": "02e7bc4f",
   "metadata": {
    "collapsed": true
   },
   "outputs": [
    {
     "data": {
      "text/plain": [
       "<AxesSubplot: title={'center': 'Daily transcations'}, xlabel='Date'>"
      ]
     },
     "execution_count": 53,
     "metadata": {},
     "output_type": "execute_result"
    },
    {
     "data": {
      "image/png": "[encoded data removed]",
      "text/plain": [
       "<Figure size 1200x600 with 1 Axes>"
      ]
     },
     "metadata": {},
     "output_type": "display_data"
    }
   ],
   "source": [
    "daily_count = data_numeric.assign(trx = np.ones(numrecords)).set_index(data_numeric['Date']).resample(dt.timedelta(days = 1))\\\n",
    "    .count().trx\n",
    "daily_count.plot(title = 'Daily transcations')\n",
    "\n",
    "\n"
   ]
  },
  {
   "cell_type": "markdown",
   "id": "98b679ca",
   "metadata": {},
   "source": [
    "# Data cleaning"
   ]
  },
  {
   "cell_type": "code",
   "execution_count": 54,
   "id": "50cc09d8",
   "metadata": {},
   "outputs": [
    {
     "data": {
      "text/html": [
       "<div>\n",
       "<style scoped>\n",
       "    .dataframe tbody tr th:only-of-type {\n",
       "        vertical-align: middle;\n",
       "    }\n",
       "\n",
       "    .dataframe tbody tr th {\n",
       "        vertical-align: top;\n",
       "    }\n",
       "\n",
       "    .dataframe thead th {\n",
       "        text-align: right;\n",
       "    }\n",
       "</style>\n",
       "<table border=\"1\" class=\"dataframe\">\n",
       "  <thead>\n",
       "    <tr style=\"text-align: right;\">\n",
       "      <th></th>\n",
       "      <th>Recnum</th>\n",
       "      <th>Cardnum</th>\n",
       "      <th>Date</th>\n",
       "      <th>Merchnum</th>\n",
       "      <th>Merch description</th>\n",
       "      <th>Merch state</th>\n",
       "      <th>Merch zip</th>\n",
       "      <th>Transtype</th>\n",
       "      <th>Amount</th>\n",
       "      <th>Fraud</th>\n",
       "    </tr>\n",
       "  </thead>\n",
       "  <tbody>\n",
       "    <tr>\n",
       "      <th>0</th>\n",
       "      <td>1</td>\n",
       "      <td>5142190439</td>\n",
       "      <td>2010-01-01</td>\n",
       "      <td>5509006296254</td>\n",
       "      <td>FEDEX SHP 12/23/09 AB#</td>\n",
       "      <td>TN</td>\n",
       "      <td>38118.0</td>\n",
       "      <td>P</td>\n",
       "      <td>3.62</td>\n",
       "      <td>0</td>\n",
       "    </tr>\n",
       "    <tr>\n",
       "      <th>1</th>\n",
       "      <td>2</td>\n",
       "      <td>5142183973</td>\n",
       "      <td>2010-01-01</td>\n",
       "      <td>61003026333</td>\n",
       "      <td>SERVICE MERCHANDISE #81</td>\n",
       "      <td>MA</td>\n",
       "      <td>1803.0</td>\n",
       "      <td>P</td>\n",
       "      <td>31.42</td>\n",
       "      <td>0</td>\n",
       "    </tr>\n",
       "    <tr>\n",
       "      <th>2</th>\n",
       "      <td>3</td>\n",
       "      <td>5142131721</td>\n",
       "      <td>2010-01-01</td>\n",
       "      <td>4503082993600</td>\n",
       "      <td>OFFICE DEPOT #191</td>\n",
       "      <td>MD</td>\n",
       "      <td>20706.0</td>\n",
       "      <td>P</td>\n",
       "      <td>178.49</td>\n",
       "      <td>0</td>\n",
       "    </tr>\n",
       "    <tr>\n",
       "      <th>3</th>\n",
       "      <td>4</td>\n",
       "      <td>5142148452</td>\n",
       "      <td>2010-01-01</td>\n",
       "      <td>5509006296254</td>\n",
       "      <td>FEDEX SHP 12/28/09 AB#</td>\n",
       "      <td>TN</td>\n",
       "      <td>38118.0</td>\n",
       "      <td>P</td>\n",
       "      <td>3.62</td>\n",
       "      <td>0</td>\n",
       "    </tr>\n",
       "    <tr>\n",
       "      <th>4</th>\n",
       "      <td>5</td>\n",
       "      <td>5142190439</td>\n",
       "      <td>2010-01-01</td>\n",
       "      <td>5509006296254</td>\n",
       "      <td>FEDEX SHP 12/23/09 AB#</td>\n",
       "      <td>TN</td>\n",
       "      <td>38118.0</td>\n",
       "      <td>P</td>\n",
       "      <td>3.62</td>\n",
       "      <td>0</td>\n",
       "    </tr>\n",
       "  </tbody>\n",
       "</table>\n",
       "</div>"
      ],
      "text/plain": [
       "   Recnum     Cardnum       Date       Merchnum        Merch description  \\\n",
       "0       1  5142190439 2010-01-01  5509006296254   FEDEX SHP 12/23/09 AB#   \n",
       "1       2  5142183973 2010-01-01    61003026333  SERVICE MERCHANDISE #81   \n",
       "2       3  5142131721 2010-01-01  4503082993600        OFFICE DEPOT #191   \n",
       "3       4  5142148452 2010-01-01  5509006296254   FEDEX SHP 12/28/09 AB#   \n",
       "4       5  5142190439 2010-01-01  5509006296254   FEDEX SHP 12/23/09 AB#   \n",
       "\n",
       "  Merch state  Merch zip Transtype  Amount  Fraud  \n",
       "0          TN    38118.0         P    3.62      0  \n",
       "1          MA     1803.0         P   31.42      0  \n",
       "2          MD    20706.0         P  178.49      0  \n",
       "3          TN    38118.0         P    3.62      0  \n",
       "4          TN    38118.0         P    3.62      0  "
      ]
     },
     "execution_count": 54,
     "metadata": {},
     "output_type": "execute_result"
    }
   ],
   "source": [
    "data.head()"
   ]
  },
  {
   "cell_type": "code",
   "execution_count": 55,
   "id": "001d510d",
   "metadata": {},
   "outputs": [
    {
     "data": {
      "text/plain": [
       "(96753, 10)"
      ]
     },
     "execution_count": 55,
     "metadata": {},
     "output_type": "execute_result"
    }
   ],
   "source": [
    "data.shape"
   ]
  },
  {
   "cell_type": "markdown",
   "id": "94043d6e",
   "metadata": {},
   "source": [
    "#  Keeping records with \"P\" in the Transtype data field only."
   ]
  },
  {
   "cell_type": "code",
   "execution_count": 56,
   "id": "808b9c22",
   "metadata": {},
   "outputs": [
    {
     "name": "stdout",
     "output_type": "stream",
     "text": [
      "96398\n"
     ]
    },
    {
     "data": {
      "text/html": [
       "<div>\n",
       "<style scoped>\n",
       "    .dataframe tbody tr th:only-of-type {\n",
       "        vertical-align: middle;\n",
       "    }\n",
       "\n",
       "    .dataframe tbody tr th {\n",
       "        vertical-align: top;\n",
       "    }\n",
       "\n",
       "    .dataframe thead th {\n",
       "        text-align: right;\n",
       "    }\n",
       "</style>\n",
       "<table border=\"1\" class=\"dataframe\">\n",
       "  <thead>\n",
       "    <tr style=\"text-align: right;\">\n",
       "      <th></th>\n",
       "      <th>Recnum</th>\n",
       "      <th>Cardnum</th>\n",
       "      <th>Date</th>\n",
       "      <th>Merchnum</th>\n",
       "      <th>Merch description</th>\n",
       "      <th>Merch state</th>\n",
       "      <th>Merch zip</th>\n",
       "      <th>Transtype</th>\n",
       "      <th>Amount</th>\n",
       "      <th>Fraud</th>\n",
       "    </tr>\n",
       "  </thead>\n",
       "  <tbody>\n",
       "    <tr>\n",
       "      <th>0</th>\n",
       "      <td>1</td>\n",
       "      <td>5142190439</td>\n",
       "      <td>2010-01-01</td>\n",
       "      <td>5509006296254</td>\n",
       "      <td>FEDEX SHP 12/23/09 AB#</td>\n",
       "      <td>TN</td>\n",
       "      <td>38118.0</td>\n",
       "      <td>P</td>\n",
       "      <td>3.62</td>\n",
       "      <td>0</td>\n",
       "    </tr>\n",
       "    <tr>\n",
       "      <th>1</th>\n",
       "      <td>2</td>\n",
       "      <td>5142183973</td>\n",
       "      <td>2010-01-01</td>\n",
       "      <td>61003026333</td>\n",
       "      <td>SERVICE MERCHANDISE #81</td>\n",
       "      <td>MA</td>\n",
       "      <td>1803.0</td>\n",
       "      <td>P</td>\n",
       "      <td>31.42</td>\n",
       "      <td>0</td>\n",
       "    </tr>\n",
       "    <tr>\n",
       "      <th>2</th>\n",
       "      <td>3</td>\n",
       "      <td>5142131721</td>\n",
       "      <td>2010-01-01</td>\n",
       "      <td>4503082993600</td>\n",
       "      <td>OFFICE DEPOT #191</td>\n",
       "      <td>MD</td>\n",
       "      <td>20706.0</td>\n",
       "      <td>P</td>\n",
       "      <td>178.49</td>\n",
       "      <td>0</td>\n",
       "    </tr>\n",
       "    <tr>\n",
       "      <th>3</th>\n",
       "      <td>4</td>\n",
       "      <td>5142148452</td>\n",
       "      <td>2010-01-01</td>\n",
       "      <td>5509006296254</td>\n",
       "      <td>FEDEX SHP 12/28/09 AB#</td>\n",
       "      <td>TN</td>\n",
       "      <td>38118.0</td>\n",
       "      <td>P</td>\n",
       "      <td>3.62</td>\n",
       "      <td>0</td>\n",
       "    </tr>\n",
       "    <tr>\n",
       "      <th>4</th>\n",
       "      <td>5</td>\n",
       "      <td>5142190439</td>\n",
       "      <td>2010-01-01</td>\n",
       "      <td>5509006296254</td>\n",
       "      <td>FEDEX SHP 12/23/09 AB#</td>\n",
       "      <td>TN</td>\n",
       "      <td>38118.0</td>\n",
       "      <td>P</td>\n",
       "      <td>3.62</td>\n",
       "      <td>0</td>\n",
       "    </tr>\n",
       "  </tbody>\n",
       "</table>\n",
       "</div>"
      ],
      "text/plain": [
       "   Recnum     Cardnum       Date       Merchnum        Merch description  \\\n",
       "0       1  5142190439 2010-01-01  5509006296254   FEDEX SHP 12/23/09 AB#   \n",
       "1       2  5142183973 2010-01-01    61003026333  SERVICE MERCHANDISE #81   \n",
       "2       3  5142131721 2010-01-01  4503082993600        OFFICE DEPOT #191   \n",
       "3       4  5142148452 2010-01-01  5509006296254   FEDEX SHP 12/28/09 AB#   \n",
       "4       5  5142190439 2010-01-01  5509006296254   FEDEX SHP 12/23/09 AB#   \n",
       "\n",
       "  Merch state  Merch zip Transtype  Amount  Fraud  \n",
       "0          TN    38118.0         P    3.62      0  \n",
       "1          MA     1803.0         P   31.42      0  \n",
       "2          MD    20706.0         P  178.49      0  \n",
       "3          TN    38118.0         P    3.62      0  \n",
       "4          TN    38118.0         P    3.62      0  "
      ]
     },
     "execution_count": 56,
     "metadata": {},
     "output_type": "execute_result"
    }
   ],
   "source": [
    "data_P = data[data['Transtype'] == 'P']\n",
    "print(len(data_P))\n",
    "data_P.head()"
   ]
  },
  {
   "cell_type": "markdown",
   "id": "a009322d",
   "metadata": {},
   "source": [
    "# Removing the frivolous values in Amount column\n",
    "# Get the index of the row containing the maximum value in "
   ]
  },
  {
   "cell_type": "code",
   "execution_count": 57,
   "id": "f98e828b",
   "metadata": {},
   "outputs": [],
   "source": [
    "df=data_P.copy()"
   ]
  },
  {
   "cell_type": "code",
   "execution_count": 58,
   "id": "71af5a2b",
   "metadata": {},
   "outputs": [],
   "source": [
    "\n",
    "max_row_index = df['Amount'].idxmax()"
   ]
  },
  {
   "cell_type": "code",
   "execution_count": 59,
   "id": "43bf265d",
   "metadata": {},
   "outputs": [
    {
     "data": {
      "text/plain": [
       "52714"
      ]
     },
     "execution_count": 59,
     "metadata": {},
     "output_type": "execute_result"
    }
   ],
   "source": [
    "max_row_index"
   ]
  },
  {
   "cell_type": "code",
   "execution_count": 60,
   "id": "a3d6444d",
   "metadata": {},
   "outputs": [
    {
     "data": {
      "text/html": [
       "<div>\n",
       "<style scoped>\n",
       "    .dataframe tbody tr th:only-of-type {\n",
       "        vertical-align: middle;\n",
       "    }\n",
       "\n",
       "    .dataframe tbody tr th {\n",
       "        vertical-align: top;\n",
       "    }\n",
       "\n",
       "    .dataframe thead th {\n",
       "        text-align: right;\n",
       "    }\n",
       "</style>\n",
       "<table border=\"1\" class=\"dataframe\">\n",
       "  <thead>\n",
       "    <tr style=\"text-align: right;\">\n",
       "      <th></th>\n",
       "      <th>Recnum</th>\n",
       "      <th>Cardnum</th>\n",
       "      <th>Date</th>\n",
       "      <th>Merchnum</th>\n",
       "      <th>Merch description</th>\n",
       "      <th>Merch state</th>\n",
       "      <th>Merch zip</th>\n",
       "      <th>Transtype</th>\n",
       "      <th>Amount</th>\n",
       "      <th>Fraud</th>\n",
       "    </tr>\n",
       "  </thead>\n",
       "  <tbody>\n",
       "    <tr>\n",
       "      <th>52714</th>\n",
       "      <td>52715</td>\n",
       "      <td>5142189135</td>\n",
       "      <td>2010-07-13</td>\n",
       "      <td>NaN</td>\n",
       "      <td>INTERMEXICO</td>\n",
       "      <td>NaN</td>\n",
       "      <td>NaN</td>\n",
       "      <td>P</td>\n",
       "      <td>3102045.53</td>\n",
       "      <td>0</td>\n",
       "    </tr>\n",
       "  </tbody>\n",
       "</table>\n",
       "</div>"
      ],
      "text/plain": [
       "       Recnum     Cardnum       Date Merchnum Merch description Merch state  \\\n",
       "52714   52715  5142189135 2010-07-13      NaN       INTERMEXICO         NaN   \n",
       "\n",
       "       Merch zip Transtype      Amount  Fraud  \n",
       "52714        NaN         P  3102045.53      0  "
      ]
     },
     "execution_count": 60,
     "metadata": {},
     "output_type": "execute_result"
    }
   ],
   "source": [
    "df.loc[df['Recnum']==52715]\n"
   ]
  },
  {
   "cell_type": "code",
   "execution_count": 61,
   "id": "37e4659a",
   "metadata": {
    "scrolled": true
   },
   "outputs": [],
   "source": [
    "\n",
    "df.drop(index=52714,inplace=True,axis=0)\n"
   ]
  },
  {
   "cell_type": "code",
   "execution_count": 62,
   "id": "e6a6d2d6",
   "metadata": {},
   "outputs": [
    {
     "data": {
      "text/html": [
       "<div>\n",
       "<style scoped>\n",
       "    .dataframe tbody tr th:only-of-type {\n",
       "        vertical-align: middle;\n",
       "    }\n",
       "\n",
       "    .dataframe tbody tr th {\n",
       "        vertical-align: top;\n",
       "    }\n",
       "\n",
       "    .dataframe thead th {\n",
       "        text-align: right;\n",
       "    }\n",
       "</style>\n",
       "<table border=\"1\" class=\"dataframe\">\n",
       "  <thead>\n",
       "    <tr style=\"text-align: right;\">\n",
       "      <th></th>\n",
       "      <th>Recnum</th>\n",
       "      <th>Cardnum</th>\n",
       "      <th>Date</th>\n",
       "      <th>Merchnum</th>\n",
       "      <th>Merch description</th>\n",
       "      <th>Merch state</th>\n",
       "      <th>Merch zip</th>\n",
       "      <th>Transtype</th>\n",
       "      <th>Amount</th>\n",
       "      <th>Fraud</th>\n",
       "    </tr>\n",
       "  </thead>\n",
       "  <tbody>\n",
       "  </tbody>\n",
       "</table>\n",
       "</div>"
      ],
      "text/plain": [
       "Empty DataFrame\n",
       "Columns: [Recnum, Cardnum, Date, Merchnum, Merch description, Merch state, Merch zip, Transtype, Amount, Fraud]\n",
       "Index: []"
      ]
     },
     "execution_count": 62,
     "metadata": {},
     "output_type": "execute_result"
    }
   ],
   "source": [
    "df.loc[data_P['Recnum']==52715]\n"
   ]
  },
  {
   "cell_type": "code",
   "execution_count": 63,
   "id": "567be78c",
   "metadata": {},
   "outputs": [
    {
     "name": "stdout",
     "output_type": "stream",
     "text": [
      "Number of records with Transtype P: 96397\n"
     ]
    }
   ],
   "source": [
    "count_P = (df['Transtype'] == 'P').sum()\n",
    "print('Number of records with Transtype P:', count_P)\n"
   ]
  },
  {
   "cell_type": "code",
   "execution_count": 64,
   "id": "7c612498",
   "metadata": {},
   "outputs": [],
   "source": [
    "# •Build many candidate variables for Project 2, as many as you can.\n",
    "\n",
    "\n",
    "# •Clean the data first: Keep only P’s, remove one outlier,\n",
    "#fill in missing fields.\n",
    "\n",
    "# •Include one risk table variable: likelihood of fraud for that\n",
    "\n",
    "#day of the week. Don’t use the OOT data to calculate the risk table.\n",
    "# •Include two Benford’s law variables, one for Cardnum and\n",
    "#one for Merchnum.\n",
    "\n",
    "# •Submit your code and a short word document with (1) a\n",
    "#high-level summary of the imputation logic and (2) a summary\n",
    "#table of variables you created, similar to HW3. Include the\n",
    "#total number of variables created.\n",
    "\n",
    "# •The more variables the better. The more variety the better.\n",
    "# •Please try to invent new kinds of variables, not just\n",
    "#new entities. If you do this make sure you describe any \n",
    "#new variables well and note that they are new (for the graders).\n",
    "# •HW8 due 3/6"
   ]
  },
  {
   "cell_type": "markdown",
   "id": "23e3ffd2",
   "metadata": {},
   "source": [
    "#  Using US zip codes dataset from : https://simplemaps.com/data/us-zips\n",
    "\n",
    "# To form  dictionary to map (zip code as key state_id as values) "
   ]
  },
  {
   "cell_type": "code",
   "execution_count": 65,
   "id": "604bba90",
   "metadata": {
    "scrolled": true
   },
   "outputs": [
    {
     "data": {
      "text/html": [
       "<div>\n",
       "<style scoped>\n",
       "    .dataframe tbody tr th:only-of-type {\n",
       "        vertical-align: middle;\n",
       "    }\n",
       "\n",
       "    .dataframe tbody tr th {\n",
       "        vertical-align: top;\n",
       "    }\n",
       "\n",
       "    .dataframe thead th {\n",
       "        text-align: right;\n",
       "    }\n",
       "</style>\n",
       "<table border=\"1\" class=\"dataframe\">\n",
       "  <thead>\n",
       "    <tr style=\"text-align: right;\">\n",
       "      <th></th>\n",
       "      <th>zip</th>\n",
       "      <th>lat</th>\n",
       "      <th>lng</th>\n",
       "      <th>city</th>\n",
       "      <th>state_id</th>\n",
       "      <th>state_name</th>\n",
       "      <th>zcta</th>\n",
       "      <th>parent_zcta</th>\n",
       "      <th>population</th>\n",
       "      <th>density</th>\n",
       "      <th>county_fips</th>\n",
       "      <th>county_name</th>\n",
       "      <th>county_weights</th>\n",
       "      <th>county_names_all</th>\n",
       "      <th>county_fips_all</th>\n",
       "      <th>imprecise</th>\n",
       "      <th>military</th>\n",
       "      <th>timezone</th>\n",
       "    </tr>\n",
       "  </thead>\n",
       "  <tbody>\n",
       "    <tr>\n",
       "      <th>0</th>\n",
       "      <td>601</td>\n",
       "      <td>18.18027</td>\n",
       "      <td>-66.75266</td>\n",
       "      <td>Adjuntas</td>\n",
       "      <td>PR</td>\n",
       "      <td>Puerto Rico</td>\n",
       "      <td>True</td>\n",
       "      <td>NaN</td>\n",
       "      <td>17126.0</td>\n",
       "      <td>102.6</td>\n",
       "      <td>72001</td>\n",
       "      <td>Adjuntas</td>\n",
       "      <td>{\"72001\": 98.73, \"72141\": 1.27}</td>\n",
       "      <td>Adjuntas|Utuado</td>\n",
       "      <td>72001|72141</td>\n",
       "      <td>False</td>\n",
       "      <td>False</td>\n",
       "      <td>America/Puerto_Rico</td>\n",
       "    </tr>\n",
       "    <tr>\n",
       "      <th>1</th>\n",
       "      <td>602</td>\n",
       "      <td>18.36075</td>\n",
       "      <td>-67.17541</td>\n",
       "      <td>Aguada</td>\n",
       "      <td>PR</td>\n",
       "      <td>Puerto Rico</td>\n",
       "      <td>True</td>\n",
       "      <td>NaN</td>\n",
       "      <td>37895.0</td>\n",
       "      <td>482.5</td>\n",
       "      <td>72003</td>\n",
       "      <td>Aguada</td>\n",
       "      <td>{\"72003\": 100}</td>\n",
       "      <td>Aguada</td>\n",
       "      <td>72003</td>\n",
       "      <td>False</td>\n",
       "      <td>False</td>\n",
       "      <td>America/Puerto_Rico</td>\n",
       "    </tr>\n",
       "    <tr>\n",
       "      <th>2</th>\n",
       "      <td>603</td>\n",
       "      <td>18.45744</td>\n",
       "      <td>-67.12225</td>\n",
       "      <td>Aguadilla</td>\n",
       "      <td>PR</td>\n",
       "      <td>Puerto Rico</td>\n",
       "      <td>True</td>\n",
       "      <td>NaN</td>\n",
       "      <td>49136.0</td>\n",
       "      <td>552.4</td>\n",
       "      <td>72005</td>\n",
       "      <td>Aguadilla</td>\n",
       "      <td>{\"72005\": 99.76, \"72099\": 0.24}</td>\n",
       "      <td>Aguadilla|Moca</td>\n",
       "      <td>72005|72099</td>\n",
       "      <td>False</td>\n",
       "      <td>False</td>\n",
       "      <td>America/Puerto_Rico</td>\n",
       "    </tr>\n",
       "    <tr>\n",
       "      <th>3</th>\n",
       "      <td>606</td>\n",
       "      <td>18.16585</td>\n",
       "      <td>-66.93716</td>\n",
       "      <td>Maricao</td>\n",
       "      <td>PR</td>\n",
       "      <td>Puerto Rico</td>\n",
       "      <td>True</td>\n",
       "      <td>NaN</td>\n",
       "      <td>5751.0</td>\n",
       "      <td>50.1</td>\n",
       "      <td>72093</td>\n",
       "      <td>Maricao</td>\n",
       "      <td>{\"72093\": 82.26, \"72153\": 11.68, \"72121\": 6.06}</td>\n",
       "      <td>Maricao|Yauco|Sabana Grande</td>\n",
       "      <td>72093|72153|72121</td>\n",
       "      <td>False</td>\n",
       "      <td>False</td>\n",
       "      <td>America/Puerto_Rico</td>\n",
       "    </tr>\n",
       "    <tr>\n",
       "      <th>4</th>\n",
       "      <td>610</td>\n",
       "      <td>18.29110</td>\n",
       "      <td>-67.12243</td>\n",
       "      <td>Anasco</td>\n",
       "      <td>PR</td>\n",
       "      <td>Puerto Rico</td>\n",
       "      <td>True</td>\n",
       "      <td>NaN</td>\n",
       "      <td>26153.0</td>\n",
       "      <td>272.1</td>\n",
       "      <td>72011</td>\n",
       "      <td>Añasco</td>\n",
       "      <td>{\"72011\": 96.71, \"72099\": 2.81, \"72083\": 0.37,...</td>\n",
       "      <td>Añasco|Moca|Las Marías|Aguada</td>\n",
       "      <td>72011|72099|72083|72003</td>\n",
       "      <td>False</td>\n",
       "      <td>False</td>\n",
       "      <td>America/Puerto_Rico</td>\n",
       "    </tr>\n",
       "  </tbody>\n",
       "</table>\n",
       "</div>"
      ],
      "text/plain": [
       "   zip       lat       lng       city state_id   state_name  zcta  \\\n",
       "0  601  18.18027 -66.75266   Adjuntas       PR  Puerto Rico  True   \n",
       "1  602  18.36075 -67.17541     Aguada       PR  Puerto Rico  True   \n",
       "2  603  18.45744 -67.12225  Aguadilla       PR  Puerto Rico  True   \n",
       "3  606  18.16585 -66.93716    Maricao       PR  Puerto Rico  True   \n",
       "4  610  18.29110 -67.12243     Anasco       PR  Puerto Rico  True   \n",
       "\n",
       "   parent_zcta  population  density  county_fips county_name  \\\n",
       "0          NaN     17126.0    102.6        72001    Adjuntas   \n",
       "1          NaN     37895.0    482.5        72003      Aguada   \n",
       "2          NaN     49136.0    552.4        72005   Aguadilla   \n",
       "3          NaN      5751.0     50.1        72093     Maricao   \n",
       "4          NaN     26153.0    272.1        72011      Añasco   \n",
       "\n",
       "                                      county_weights  \\\n",
       "0                    {\"72001\": 98.73, \"72141\": 1.27}   \n",
       "1                                     {\"72003\": 100}   \n",
       "2                    {\"72005\": 99.76, \"72099\": 0.24}   \n",
       "3    {\"72093\": 82.26, \"72153\": 11.68, \"72121\": 6.06}   \n",
       "4  {\"72011\": 96.71, \"72099\": 2.81, \"72083\": 0.37,...   \n",
       "\n",
       "                county_names_all          county_fips_all  imprecise  \\\n",
       "0                Adjuntas|Utuado              72001|72141      False   \n",
       "1                         Aguada                    72003      False   \n",
       "2                 Aguadilla|Moca              72005|72099      False   \n",
       "3    Maricao|Yauco|Sabana Grande        72093|72153|72121      False   \n",
       "4  Añasco|Moca|Las Marías|Aguada  72011|72099|72083|72003      False   \n",
       "\n",
       "   military             timezone  \n",
       "0     False  America/Puerto_Rico  \n",
       "1     False  America/Puerto_Rico  \n",
       "2     False  America/Puerto_Rico  \n",
       "3     False  America/Puerto_Rico  \n",
       "4     False  America/Puerto_Rico  "
      ]
     },
     "execution_count": 65,
     "metadata": {},
     "output_type": "execute_result"
    }
   ],
   "source": [
    "# Fill missing values using zip codes database\n",
    "\n",
    "zip_codes = pd.read_csv('uszips.csv')\n",
    "zip_codes.head()"
   ]
  },
  {
   "cell_type": "code",
   "execution_count": 66,
   "id": "86a699cd",
   "metadata": {},
   "outputs": [
    {
     "data": {
      "text/plain": [
       "(33790, 18)"
      ]
     },
     "execution_count": 66,
     "metadata": {},
     "output_type": "execute_result"
    }
   ],
   "source": [
    "zip_codes.shape"
   ]
  },
  {
   "cell_type": "code",
   "execution_count": 67,
   "id": "37ebd81e",
   "metadata": {},
   "outputs": [],
   "source": [
    "zip_codes['zip_new'] = zip_codes.zip.astype('float64') "
   ]
  },
  {
   "cell_type": "markdown",
   "id": "f3beb219",
   "metadata": {},
   "source": [
    "### To form dictionary to map (zip code as key state_id as values) in zip_dict\n"
   ]
  },
  {
   "cell_type": "code",
   "execution_count": 68,
   "id": "529eccc6",
   "metadata": {},
   "outputs": [],
   "source": [
    "\n",
    "zip_dict = {zip_code: state_id for zip_code, state_id in zip(zip_codes.zip_new.values, zip_codes.state_id.values)}\n"
   ]
  },
  {
   "cell_type": "code",
   "execution_count": 69,
   "id": "cc6c1409",
   "metadata": {
    "scrolled": true
   },
   "outputs": [
    {
     "name": "stdout",
     "output_type": "stream",
     "text": [
      "601.0 PR\n",
      "602.0 PR\n",
      "603.0 PR\n",
      "606.0 PR\n",
      "610.0 PR\n"
     ]
    }
   ],
   "source": [
    "count = 0\n",
    "for key, value in zip_dict.items():\n",
    "    print(key, value)\n",
    "    count += 1\n",
    "    if count == 5:\n",
    "        break"
   ]
  },
  {
   "cell_type": "markdown",
   "id": "1c0b037e",
   "metadata": {},
   "source": [
    "#  Data Cleaning in Merch State which has 1194 missing values"
   ]
  },
  {
   "cell_type": "code",
   "execution_count": 70,
   "id": "b3a3253d",
   "metadata": {},
   "outputs": [],
   "source": [
    "df0=df.copy()"
   ]
  },
  {
   "cell_type": "code",
   "execution_count": 71,
   "id": "8a66d686",
   "metadata": {},
   "outputs": [
    {
     "name": "stdout",
     "output_type": "stream",
     "text": [
      "1020\n"
     ]
    }
   ],
   "source": [
    "print(len(df0.loc[df0['Merch state'].isna()]))\n"
   ]
  },
  {
   "cell_type": "code",
   "execution_count": 72,
   "id": "bf9d27f1",
   "metadata": {},
   "outputs": [
    {
     "name": "stdout",
     "output_type": "stream",
     "text": [
      "980\n"
     ]
    }
   ],
   "source": [
    "\n",
    "# filling the missing value using zip_dict which has zip as key  state_id as value to map  the \"Merch state\" datafield\n",
    "\n",
    "df0['Merch state'].fillna(df0['Merch zip'].map(zip_dict), inplace=True)\n",
    "print(df0['Merch state'].isna().sum())\n",
    "\n"
   ]
  },
  {
   "cell_type": "code",
   "execution_count": 73,
   "id": "7830f941",
   "metadata": {},
   "outputs": [
    {
     "name": "stdout",
     "output_type": "stream",
     "text": [
      "963\n"
     ]
    }
   ],
   "source": [
    "# Filter for non-null 'Merch zip' values\n",
    "mask = df0['Merch zip'].notnull()\n",
    "zip_notnull = df0.loc[mask, ['Merch zip', 'Merch state']]\n",
    "\n",
    "# Fill missing 'Merch state' values with the mode within each 'Merch zip' group\n",
    "zip_notnull['Merch state'] = zip_notnull.groupby('Merch zip')['Merch state'].transform(lambda x: x.fillna(x.mode().iloc[0] if not x.mode().empty else np.nan))\n",
    "\n",
    "# Map the mode values back to the original dataframe\n",
    "\n",
    "zip_state_dict = pd.Series(zip_notnull['Merch state'].values, index=zip_notnull['Merch zip']).to_dict()\n",
    "df0['Merch state'] = df0['Merch state'].fillna(df0['Merch zip'].map(zip_state_dict))\n",
    "\n",
    "# Check the number of remaining missing values\n",
    "print(len(df0.loc[df0['Merch state'].isna()]))\n"
   ]
  },
  {
   "cell_type": "code",
   "execution_count": 74,
   "id": "9ac925d5",
   "metadata": {},
   "outputs": [
    {
     "data": {
      "text/plain": [
       "636"
      ]
     },
     "execution_count": 74,
     "metadata": {},
     "output_type": "execute_result"
    }
   ],
   "source": [
    "#function= lambda x: x.fillna(x.mode().iloc[0] if not x.mode().empty else np.nan)\n",
    "\n",
    "function=lambda x: x.fillna(x.mode().iloc[0] if not x.mode().empty else np.nan)\n",
    "df0['Merch state1'] = df0.groupby(['Cardnum','Date'])['Merch state'].transform(function) \n",
    "len(df0.loc[df0['Merch state1'].isna()])\n",
    "\n"
   ]
  },
  {
   "cell_type": "code",
   "execution_count": 75,
   "id": "c26e0e4b",
   "metadata": {},
   "outputs": [
    {
     "data": {
      "text/plain": [
       "134"
      ]
     },
     "execution_count": 75,
     "metadata": {},
     "output_type": "execute_result"
    }
   ],
   "source": [
    "# Groupby Merch description, then find the mode of the state\n",
    "function=lambda x: x.fillna(x.mode().iloc[0] if not x.mode().empty else np.nan)\n",
    "\n",
    "\n",
    "df0['Merch state2'] = df0.groupby(['Merch description'])['Merch state1'].transform(function) \n",
    "len(df0.loc[df0['Merch state2'].isna()])\n"
   ]
  },
  {
   "cell_type": "code",
   "execution_count": 76,
   "id": "69bf15c4",
   "metadata": {},
   "outputs": [
    {
     "data": {
      "text/plain": [
       "31"
      ]
     },
     "execution_count": 76,
     "metadata": {},
     "output_type": "execute_result"
    }
   ],
   "source": [
    "# Groupby Cardnm, then find the mode of the state\n",
    "function=lambda x: x.fillna(x.mode().iloc[0] if not x.mode().empty else np.nan)\n",
    "\n",
    "df0['Merch state3'] = df0.groupby(['Cardnum'])['Merch state2'].transform(function) \n",
    "len(df0.loc[df0['Merch state3'].isna()])\n",
    "\n"
   ]
  },
  {
   "cell_type": "code",
   "execution_count": 77,
   "id": "a3a17d6c",
   "metadata": {},
   "outputs": [
    {
     "data": {
      "text/plain": [
       "0"
      ]
     },
     "execution_count": 77,
     "metadata": {},
     "output_type": "execute_result"
    }
   ],
   "source": [
    "# filling remaining missing values with Recum\n",
    "df0['Merch state4'] = df0['Merch state3'].fillna(df0['Recnum'])\n",
    "missing_values1 = df0['Merch state4'].isnull().sum()\n",
    "missing_values1"
   ]
  },
  {
   "cell_type": "markdown",
   "id": "189b9d4c",
   "metadata": {},
   "source": [
    "# filling missing values in Merch zip column  which has 4655 missing values"
   ]
  },
  {
   "cell_type": "code",
   "execution_count": 78,
   "id": "cd614e0c",
   "metadata": {},
   "outputs": [
    {
     "data": {
      "text/html": [
       "<div>\n",
       "<style scoped>\n",
       "    .dataframe tbody tr th:only-of-type {\n",
       "        vertical-align: middle;\n",
       "    }\n",
       "\n",
       "    .dataframe tbody tr th {\n",
       "        vertical-align: top;\n",
       "    }\n",
       "\n",
       "    .dataframe thead th {\n",
       "        text-align: right;\n",
       "    }\n",
       "</style>\n",
       "<table border=\"1\" class=\"dataframe\">\n",
       "  <thead>\n",
       "    <tr style=\"text-align: right;\">\n",
       "      <th></th>\n",
       "      <th>Recnum</th>\n",
       "      <th>Cardnum</th>\n",
       "      <th>Date</th>\n",
       "      <th>Merchnum</th>\n",
       "      <th>Merch description</th>\n",
       "      <th>Merch state</th>\n",
       "      <th>Merch zip</th>\n",
       "      <th>Transtype</th>\n",
       "      <th>Amount</th>\n",
       "      <th>Fraud</th>\n",
       "      <th>Merch state1</th>\n",
       "      <th>Merch state2</th>\n",
       "      <th>Merch state3</th>\n",
       "      <th>Merch state4</th>\n",
       "    </tr>\n",
       "  </thead>\n",
       "  <tbody>\n",
       "    <tr>\n",
       "      <th>0</th>\n",
       "      <td>1</td>\n",
       "      <td>5142190439</td>\n",
       "      <td>2010-01-01</td>\n",
       "      <td>5509006296254</td>\n",
       "      <td>FEDEX SHP 12/23/09 AB#</td>\n",
       "      <td>TN</td>\n",
       "      <td>38118.0</td>\n",
       "      <td>P</td>\n",
       "      <td>3.62</td>\n",
       "      <td>0</td>\n",
       "      <td>TN</td>\n",
       "      <td>TN</td>\n",
       "      <td>TN</td>\n",
       "      <td>TN</td>\n",
       "    </tr>\n",
       "    <tr>\n",
       "      <th>1</th>\n",
       "      <td>2</td>\n",
       "      <td>5142183973</td>\n",
       "      <td>2010-01-01</td>\n",
       "      <td>61003026333</td>\n",
       "      <td>SERVICE MERCHANDISE #81</td>\n",
       "      <td>MA</td>\n",
       "      <td>1803.0</td>\n",
       "      <td>P</td>\n",
       "      <td>31.42</td>\n",
       "      <td>0</td>\n",
       "      <td>MA</td>\n",
       "      <td>MA</td>\n",
       "      <td>MA</td>\n",
       "      <td>MA</td>\n",
       "    </tr>\n",
       "    <tr>\n",
       "      <th>2</th>\n",
       "      <td>3</td>\n",
       "      <td>5142131721</td>\n",
       "      <td>2010-01-01</td>\n",
       "      <td>4503082993600</td>\n",
       "      <td>OFFICE DEPOT #191</td>\n",
       "      <td>MD</td>\n",
       "      <td>20706.0</td>\n",
       "      <td>P</td>\n",
       "      <td>178.49</td>\n",
       "      <td>0</td>\n",
       "      <td>MD</td>\n",
       "      <td>MD</td>\n",
       "      <td>MD</td>\n",
       "      <td>MD</td>\n",
       "    </tr>\n",
       "    <tr>\n",
       "      <th>3</th>\n",
       "      <td>4</td>\n",
       "      <td>5142148452</td>\n",
       "      <td>2010-01-01</td>\n",
       "      <td>5509006296254</td>\n",
       "      <td>FEDEX SHP 12/28/09 AB#</td>\n",
       "      <td>TN</td>\n",
       "      <td>38118.0</td>\n",
       "      <td>P</td>\n",
       "      <td>3.62</td>\n",
       "      <td>0</td>\n",
       "      <td>TN</td>\n",
       "      <td>TN</td>\n",
       "      <td>TN</td>\n",
       "      <td>TN</td>\n",
       "    </tr>\n",
       "    <tr>\n",
       "      <th>4</th>\n",
       "      <td>5</td>\n",
       "      <td>5142190439</td>\n",
       "      <td>2010-01-01</td>\n",
       "      <td>5509006296254</td>\n",
       "      <td>FEDEX SHP 12/23/09 AB#</td>\n",
       "      <td>TN</td>\n",
       "      <td>38118.0</td>\n",
       "      <td>P</td>\n",
       "      <td>3.62</td>\n",
       "      <td>0</td>\n",
       "      <td>TN</td>\n",
       "      <td>TN</td>\n",
       "      <td>TN</td>\n",
       "      <td>TN</td>\n",
       "    </tr>\n",
       "  </tbody>\n",
       "</table>\n",
       "</div>"
      ],
      "text/plain": [
       "   Recnum     Cardnum       Date       Merchnum        Merch description  \\\n",
       "0       1  5142190439 2010-01-01  5509006296254   FEDEX SHP 12/23/09 AB#   \n",
       "1       2  5142183973 2010-01-01    61003026333  SERVICE MERCHANDISE #81   \n",
       "2       3  5142131721 2010-01-01  4503082993600        OFFICE DEPOT #191   \n",
       "3       4  5142148452 2010-01-01  5509006296254   FEDEX SHP 12/28/09 AB#   \n",
       "4       5  5142190439 2010-01-01  5509006296254   FEDEX SHP 12/23/09 AB#   \n",
       "\n",
       "  Merch state  Merch zip Transtype  Amount  Fraud Merch state1 Merch state2  \\\n",
       "0          TN    38118.0         P    3.62      0           TN           TN   \n",
       "1          MA     1803.0         P   31.42      0           MA           MA   \n",
       "2          MD    20706.0         P  178.49      0           MD           MD   \n",
       "3          TN    38118.0         P    3.62      0           TN           TN   \n",
       "4          TN    38118.0         P    3.62      0           TN           TN   \n",
       "\n",
       "  Merch state3 Merch state4  \n",
       "0           TN           TN  \n",
       "1           MA           MA  \n",
       "2           MD           MD  \n",
       "3           TN           TN  \n",
       "4           TN           TN  "
      ]
     },
     "execution_count": 78,
     "metadata": {},
     "output_type": "execute_result"
    }
   ],
   "source": [
    "df0.head()"
   ]
  },
  {
   "cell_type": "code",
   "execution_count": 79,
   "id": "2b64e52a",
   "metadata": {},
   "outputs": [],
   "source": [
    "df1=df0.copy()"
   ]
  },
  {
   "cell_type": "code",
   "execution_count": 80,
   "id": "f5deab31",
   "metadata": {
    "scrolled": true
   },
   "outputs": [
    {
     "name": "stdout",
     "output_type": "stream",
     "text": [
      "4300\n"
     ]
    }
   ],
   "source": [
    "print(len(df1.loc[df1['Merch zip'].isna()]))\n"
   ]
  },
  {
   "cell_type": "code",
   "execution_count": 81,
   "id": "30e22591",
   "metadata": {},
   "outputs": [
    {
     "name": "stdout",
     "output_type": "stream",
     "text": [
      "2474\n"
     ]
    }
   ],
   "source": [
    "function=lambda x: x.fillna(x.mode().iloc[0] if not x.mode().empty else np.nan)\n",
    "\n",
    "mask = df1['Merchnum'].notnull()\n",
    "merch_notnull = df1.loc[mask, ['Merchnum', 'Merch state4','Merch zip']]\n",
    "\n",
    "# Fill missing 'Merch state' values with the mode within each 'Merch zip' group\n",
    "merch_notnull['Merch zip'] = merch_notnull.groupby(['Merchnum', 'Merch state4'])['Merch zip'].transform(function)\n",
    "\n",
    "# Map the mode values back to the original dataframe\n",
    "\n",
    "merch_state_dict = pd.Series(merch_notnull['Merch zip'].values, index=merch_notnull['Merchnum']).to_dict()\n",
    "df1['Merch zip'] = df1['Merch zip'].fillna(df1['Merchnum'].map(merch_state_dict))\n",
    "\n",
    "# Check the number of remaining missing values\n",
    "print(len(df1.loc[df1['Merch zip'].isna()]))\n"
   ]
  },
  {
   "cell_type": "code",
   "execution_count": 82,
   "id": "b3a2341c",
   "metadata": {},
   "outputs": [
    {
     "name": "stdout",
     "output_type": "stream",
     "text": [
      "5509006296254 38118.0\n",
      "61003026333 1803.0\n",
      "4503082993600 20706.0\n",
      "6098208200062 45429.0\n",
      "602608969534 30091.0\n"
     ]
    }
   ],
   "source": [
    "count = 0\n",
    "for key, value in merch_state_dict.items():\n",
    "    print(key, value)\n",
    "    count += 1\n",
    "    if count == 5:\n",
    "        break"
   ]
  },
  {
   "cell_type": "code",
   "execution_count": 83,
   "id": "3ee24d00",
   "metadata": {},
   "outputs": [
    {
     "data": {
      "text/plain": [
       "1628"
      ]
     },
     "execution_count": 83,
     "metadata": {},
     "output_type": "execute_result"
    }
   ],
   "source": [
    "# Groupby fully filled Merch state, then find the mode of the Merch zip \n",
    "\n",
    "function=lambda x: x.fillna(x.mode().iloc[0] if not x.mode().empty else np.nan)\n",
    "\n",
    "df1['Merch zip1'] = df1.groupby(['Cardnum','Date'])['Merch zip'].transform(function) \n",
    "len(df1.loc[df1['Merch zip1'].isna()])\n"
   ]
  },
  {
   "cell_type": "code",
   "execution_count": 84,
   "id": "52796fc4",
   "metadata": {},
   "outputs": [
    {
     "data": {
      "text/plain": [
       "353"
      ]
     },
     "execution_count": 84,
     "metadata": {},
     "output_type": "execute_result"
    }
   ],
   "source": [
    "#Groupby Merch description, then the fully filled state  then find the mode of the zip\n",
    "\n",
    "\n",
    "function=lambda x: x.fillna(x.mode().iloc[0] if not x.mode().empty else np.nan)\n",
    "\n",
    "df1['Merch zip2'] = df1.groupby(['Merch description','Merch state4'])['Merch zip1'].transform(function) \n",
    "len(df1.loc[df1['Merch zip2'].isna()])\n",
    "\n"
   ]
  },
  {
   "cell_type": "code",
   "execution_count": 85,
   "id": "6033a9f3",
   "metadata": {},
   "outputs": [
    {
     "data": {
      "text/plain": [
       "31"
      ]
     },
     "execution_count": 85,
     "metadata": {},
     "output_type": "execute_result"
    }
   ],
   "source": [
    "function=lambda x: x.fillna(x.mode().iloc[0] if not x.mode().empty else np.nan)\n",
    "\n",
    "df1['Merch zip3'] = df1.groupby(['Merch state4'])['Merch zip2'].transform(function) \n",
    "len(df1.loc[df1['Merch zip3'].isna()])\n"
   ]
  },
  {
   "cell_type": "code",
   "execution_count": 86,
   "id": "c55c4d11",
   "metadata": {
    "scrolled": true
   },
   "outputs": [
    {
     "data": {
      "text/plain": [
       "0"
      ]
     },
     "execution_count": 86,
     "metadata": {},
     "output_type": "execute_result"
    }
   ],
   "source": [
    "df1['Merch zip4'] = df1['Merch zip3'].fillna(df1['Recnum'])\n",
    "missing_values = df1['Merch zip4'].isnull().sum()\n",
    "missing_values"
   ]
  },
  {
   "cell_type": "markdown",
   "id": "cd8d3bbb",
   "metadata": {},
   "source": [
    "# filling missing value in Merchnum which has missing values"
   ]
  },
  {
   "cell_type": "code",
   "execution_count": 87,
   "id": "da6e547b",
   "metadata": {},
   "outputs": [
    {
     "data": {
      "text/html": [
       "<div>\n",
       "<style scoped>\n",
       "    .dataframe tbody tr th:only-of-type {\n",
       "        vertical-align: middle;\n",
       "    }\n",
       "\n",
       "    .dataframe tbody tr th {\n",
       "        vertical-align: top;\n",
       "    }\n",
       "\n",
       "    .dataframe thead th {\n",
       "        text-align: right;\n",
       "    }\n",
       "</style>\n",
       "<table border=\"1\" class=\"dataframe\">\n",
       "  <thead>\n",
       "    <tr style=\"text-align: right;\">\n",
       "      <th></th>\n",
       "      <th>Recnum</th>\n",
       "      <th>Cardnum</th>\n",
       "      <th>Date</th>\n",
       "      <th>Merchnum</th>\n",
       "      <th>Merch description</th>\n",
       "      <th>Merch state</th>\n",
       "      <th>Merch zip</th>\n",
       "      <th>Transtype</th>\n",
       "      <th>Amount</th>\n",
       "      <th>Fraud</th>\n",
       "      <th>Merch state1</th>\n",
       "      <th>Merch state2</th>\n",
       "      <th>Merch state3</th>\n",
       "      <th>Merch state4</th>\n",
       "      <th>Merch zip1</th>\n",
       "      <th>Merch zip2</th>\n",
       "      <th>Merch zip3</th>\n",
       "      <th>Merch zip4</th>\n",
       "    </tr>\n",
       "  </thead>\n",
       "  <tbody>\n",
       "    <tr>\n",
       "      <th>0</th>\n",
       "      <td>1</td>\n",
       "      <td>5142190439</td>\n",
       "      <td>2010-01-01</td>\n",
       "      <td>5509006296254</td>\n",
       "      <td>FEDEX SHP 12/23/09 AB#</td>\n",
       "      <td>TN</td>\n",
       "      <td>38118.0</td>\n",
       "      <td>P</td>\n",
       "      <td>3.62</td>\n",
       "      <td>0</td>\n",
       "      <td>TN</td>\n",
       "      <td>TN</td>\n",
       "      <td>TN</td>\n",
       "      <td>TN</td>\n",
       "      <td>38118.0</td>\n",
       "      <td>38118.0</td>\n",
       "      <td>38118.0</td>\n",
       "      <td>38118.0</td>\n",
       "    </tr>\n",
       "    <tr>\n",
       "      <th>1</th>\n",
       "      <td>2</td>\n",
       "      <td>5142183973</td>\n",
       "      <td>2010-01-01</td>\n",
       "      <td>61003026333</td>\n",
       "      <td>SERVICE MERCHANDISE #81</td>\n",
       "      <td>MA</td>\n",
       "      <td>1803.0</td>\n",
       "      <td>P</td>\n",
       "      <td>31.42</td>\n",
       "      <td>0</td>\n",
       "      <td>MA</td>\n",
       "      <td>MA</td>\n",
       "      <td>MA</td>\n",
       "      <td>MA</td>\n",
       "      <td>1803.0</td>\n",
       "      <td>1803.0</td>\n",
       "      <td>1803.0</td>\n",
       "      <td>1803.0</td>\n",
       "    </tr>\n",
       "    <tr>\n",
       "      <th>2</th>\n",
       "      <td>3</td>\n",
       "      <td>5142131721</td>\n",
       "      <td>2010-01-01</td>\n",
       "      <td>4503082993600</td>\n",
       "      <td>OFFICE DEPOT #191</td>\n",
       "      <td>MD</td>\n",
       "      <td>20706.0</td>\n",
       "      <td>P</td>\n",
       "      <td>178.49</td>\n",
       "      <td>0</td>\n",
       "      <td>MD</td>\n",
       "      <td>MD</td>\n",
       "      <td>MD</td>\n",
       "      <td>MD</td>\n",
       "      <td>20706.0</td>\n",
       "      <td>20706.0</td>\n",
       "      <td>20706.0</td>\n",
       "      <td>20706.0</td>\n",
       "    </tr>\n",
       "    <tr>\n",
       "      <th>3</th>\n",
       "      <td>4</td>\n",
       "      <td>5142148452</td>\n",
       "      <td>2010-01-01</td>\n",
       "      <td>5509006296254</td>\n",
       "      <td>FEDEX SHP 12/28/09 AB#</td>\n",
       "      <td>TN</td>\n",
       "      <td>38118.0</td>\n",
       "      <td>P</td>\n",
       "      <td>3.62</td>\n",
       "      <td>0</td>\n",
       "      <td>TN</td>\n",
       "      <td>TN</td>\n",
       "      <td>TN</td>\n",
       "      <td>TN</td>\n",
       "      <td>38118.0</td>\n",
       "      <td>38118.0</td>\n",
       "      <td>38118.0</td>\n",
       "      <td>38118.0</td>\n",
       "    </tr>\n",
       "    <tr>\n",
       "      <th>4</th>\n",
       "      <td>5</td>\n",
       "      <td>5142190439</td>\n",
       "      <td>2010-01-01</td>\n",
       "      <td>5509006296254</td>\n",
       "      <td>FEDEX SHP 12/23/09 AB#</td>\n",
       "      <td>TN</td>\n",
       "      <td>38118.0</td>\n",
       "      <td>P</td>\n",
       "      <td>3.62</td>\n",
       "      <td>0</td>\n",
       "      <td>TN</td>\n",
       "      <td>TN</td>\n",
       "      <td>TN</td>\n",
       "      <td>TN</td>\n",
       "      <td>38118.0</td>\n",
       "      <td>38118.0</td>\n",
       "      <td>38118.0</td>\n",
       "      <td>38118.0</td>\n",
       "    </tr>\n",
       "  </tbody>\n",
       "</table>\n",
       "</div>"
      ],
      "text/plain": [
       "   Recnum     Cardnum       Date       Merchnum        Merch description  \\\n",
       "0       1  5142190439 2010-01-01  5509006296254   FEDEX SHP 12/23/09 AB#   \n",
       "1       2  5142183973 2010-01-01    61003026333  SERVICE MERCHANDISE #81   \n",
       "2       3  5142131721 2010-01-01  4503082993600        OFFICE DEPOT #191   \n",
       "3       4  5142148452 2010-01-01  5509006296254   FEDEX SHP 12/28/09 AB#   \n",
       "4       5  5142190439 2010-01-01  5509006296254   FEDEX SHP 12/23/09 AB#   \n",
       "\n",
       "  Merch state  Merch zip Transtype  Amount  Fraud Merch state1 Merch state2  \\\n",
       "0          TN    38118.0         P    3.62      0           TN           TN   \n",
       "1          MA     1803.0         P   31.42      0           MA           MA   \n",
       "2          MD    20706.0         P  178.49      0           MD           MD   \n",
       "3          TN    38118.0         P    3.62      0           TN           TN   \n",
       "4          TN    38118.0         P    3.62      0           TN           TN   \n",
       "\n",
       "  Merch state3 Merch state4  Merch zip1  Merch zip2  Merch zip3  Merch zip4  \n",
       "0           TN           TN     38118.0     38118.0     38118.0     38118.0  \n",
       "1           MA           MA      1803.0      1803.0      1803.0      1803.0  \n",
       "2           MD           MD     20706.0     20706.0     20706.0     20706.0  \n",
       "3           TN           TN     38118.0     38118.0     38118.0     38118.0  \n",
       "4           TN           TN     38118.0     38118.0     38118.0     38118.0  "
      ]
     },
     "execution_count": 87,
     "metadata": {},
     "output_type": "execute_result"
    }
   ],
   "source": [
    "df1.head()"
   ]
  },
  {
   "cell_type": "code",
   "execution_count": 88,
   "id": "b3306f9a",
   "metadata": {},
   "outputs": [],
   "source": [
    "df2=df1.copy()"
   ]
  },
  {
   "cell_type": "code",
   "execution_count": 89,
   "id": "fbf52a38",
   "metadata": {},
   "outputs": [
    {
     "name": "stdout",
     "output_type": "stream",
     "text": [
      "3198\n"
     ]
    }
   ],
   "source": [
    "print(len(df2.loc[df2['Merchnum'].isna()]))"
   ]
  },
  {
   "cell_type": "code",
   "execution_count": 90,
   "id": "a0541d9d",
   "metadata": {},
   "outputs": [
    {
     "name": "stdout",
     "output_type": "stream",
     "text": [
      "3251\n"
     ]
    }
   ],
   "source": [
    "# convert the values of \"0\" in the Merchnum data field to \"NaN\" values\n",
    "df2['Merchnum0'] = df2['Merchnum'].replace('0', np.nan)\n",
    "print(len(df2.loc[df2['Merchnum0'].isna()])) # Look at the new number of records with \"NaN\" values"
   ]
  },
  {
   "cell_type": "code",
   "execution_count": 91,
   "id": "b9d2fc03",
   "metadata": {},
   "outputs": [
    {
     "data": {
      "text/plain": [
       "2177"
      ]
     },
     "execution_count": 91,
     "metadata": {},
     "output_type": "execute_result"
    }
   ],
   "source": [
    "#Groupby Merch description, then the fully filled zip , then find the mode of the Merchnum\n",
    "function=lambda x: x.fillna(x.mode().iloc[0] if not x.mode().empty else np.nan)\n",
    "\n",
    "df2['Merchnum1'] = df2.groupby(['Merch description','Merch zip4'])['Merchnum0'].transform(function) \n",
    "len(df2.loc[df2['Merchnum1'].isna()])\n"
   ]
  },
  {
   "cell_type": "code",
   "execution_count": 92,
   "id": "ee618657",
   "metadata": {},
   "outputs": [
    {
     "data": {
      "text/plain": [
       "2109"
      ]
     },
     "execution_count": 92,
     "metadata": {},
     "output_type": "execute_result"
    }
   ],
   "source": [
    "# Groupby Merch description, then the fully filled state , then find the mode of the Merchnum\n",
    "\n",
    "function=lambda x: x.fillna(x.mode().iloc[0] if not x.mode().empty else np.nan)\n",
    "\n",
    "df2['Merchnum2'] = df2.groupby(['Merch description','Merch state4'])['Merchnum1'].transform(function) \n",
    "len(df2.loc[df2['Merchnum2'].isna()])\n",
    "\n"
   ]
  },
  {
   "cell_type": "code",
   "execution_count": 93,
   "id": "f5c5c162",
   "metadata": {},
   "outputs": [
    {
     "data": {
      "text/plain": [
       "2094"
      ]
     },
     "execution_count": 93,
     "metadata": {},
     "output_type": "execute_result"
    }
   ],
   "source": [
    "df2['Merchnum3'] = df2.groupby(['Merch description'])['Merchnum2'].transform(function) \n",
    "len(df2.loc[df2['Merchnum3'].isna()])\n"
   ]
  },
  {
   "cell_type": "code",
   "execution_count": 94,
   "id": "0c7c0690",
   "metadata": {},
   "outputs": [
    {
     "data": {
      "text/plain": [
       "48"
      ]
     },
     "execution_count": 94,
     "metadata": {},
     "output_type": "execute_result"
    }
   ],
   "source": [
    "function=lambda x: x.fillna(x.mode().iloc[0] if not x.mode().empty else np.nan)\n",
    "\n",
    "df2['Merchnum4'] = df2.groupby(['Merch state4'])['Merchnum3'].transform(function) \n",
    "len(df2.loc[df2['Merchnum4'].isna()])\n"
   ]
  },
  {
   "cell_type": "code",
   "execution_count": 95,
   "id": "74202190",
   "metadata": {},
   "outputs": [
    {
     "data": {
      "text/plain": [
       "28"
      ]
     },
     "execution_count": 95,
     "metadata": {},
     "output_type": "execute_result"
    }
   ],
   "source": [
    "df2['Merchnum5'] = df2.groupby(['Merch zip4'])['Merchnum4'].transform(function) \n",
    "len(df2.loc[df2['Merchnum5'].isna()])\n"
   ]
  },
  {
   "cell_type": "code",
   "execution_count": 96,
   "id": "a2491fea",
   "metadata": {},
   "outputs": [
    {
     "data": {
      "text/plain": [
       "0"
      ]
     },
     "execution_count": 96,
     "metadata": {},
     "output_type": "execute_result"
    }
   ],
   "source": [
    "df2['Merchnum6'] = df2['Merchnum5'].fillna(df2['Recnum'])\n",
    "missing_values = df2['Merchnum6'].isnull().sum()\n",
    "missing_values"
   ]
  },
  {
   "cell_type": "code",
   "execution_count": 97,
   "id": "e219c24c",
   "metadata": {
    "scrolled": true
   },
   "outputs": [
    {
     "data": {
      "text/html": [
       "<div>\n",
       "<style scoped>\n",
       "    .dataframe tbody tr th:only-of-type {\n",
       "        vertical-align: middle;\n",
       "    }\n",
       "\n",
       "    .dataframe tbody tr th {\n",
       "        vertical-align: top;\n",
       "    }\n",
       "\n",
       "    .dataframe thead th {\n",
       "        text-align: right;\n",
       "    }\n",
       "</style>\n",
       "<table border=\"1\" class=\"dataframe\">\n",
       "  <thead>\n",
       "    <tr style=\"text-align: right;\">\n",
       "      <th></th>\n",
       "      <th>Recnum</th>\n",
       "      <th>Cardnum</th>\n",
       "      <th>Date</th>\n",
       "      <th>Merchnum</th>\n",
       "      <th>Merch description</th>\n",
       "      <th>Merch state</th>\n",
       "      <th>Merch zip</th>\n",
       "      <th>Transtype</th>\n",
       "      <th>Amount</th>\n",
       "      <th>Fraud</th>\n",
       "      <th>...</th>\n",
       "      <th>Merch zip2</th>\n",
       "      <th>Merch zip3</th>\n",
       "      <th>Merch zip4</th>\n",
       "      <th>Merchnum0</th>\n",
       "      <th>Merchnum1</th>\n",
       "      <th>Merchnum2</th>\n",
       "      <th>Merchnum3</th>\n",
       "      <th>Merchnum4</th>\n",
       "      <th>Merchnum5</th>\n",
       "      <th>Merchnum6</th>\n",
       "    </tr>\n",
       "  </thead>\n",
       "  <tbody>\n",
       "    <tr>\n",
       "      <th>0</th>\n",
       "      <td>1</td>\n",
       "      <td>5142190439</td>\n",
       "      <td>2010-01-01</td>\n",
       "      <td>5509006296254</td>\n",
       "      <td>FEDEX SHP 12/23/09 AB#</td>\n",
       "      <td>TN</td>\n",
       "      <td>38118.0</td>\n",
       "      <td>P</td>\n",
       "      <td>3.62</td>\n",
       "      <td>0</td>\n",
       "      <td>...</td>\n",
       "      <td>38118.0</td>\n",
       "      <td>38118.0</td>\n",
       "      <td>38118.0</td>\n",
       "      <td>5509006296254</td>\n",
       "      <td>5509006296254</td>\n",
       "      <td>5509006296254</td>\n",
       "      <td>5509006296254</td>\n",
       "      <td>5509006296254</td>\n",
       "      <td>5509006296254</td>\n",
       "      <td>5509006296254</td>\n",
       "    </tr>\n",
       "    <tr>\n",
       "      <th>1</th>\n",
       "      <td>2</td>\n",
       "      <td>5142183973</td>\n",
       "      <td>2010-01-01</td>\n",
       "      <td>61003026333</td>\n",
       "      <td>SERVICE MERCHANDISE #81</td>\n",
       "      <td>MA</td>\n",
       "      <td>1803.0</td>\n",
       "      <td>P</td>\n",
       "      <td>31.42</td>\n",
       "      <td>0</td>\n",
       "      <td>...</td>\n",
       "      <td>1803.0</td>\n",
       "      <td>1803.0</td>\n",
       "      <td>1803.0</td>\n",
       "      <td>61003026333</td>\n",
       "      <td>61003026333</td>\n",
       "      <td>61003026333</td>\n",
       "      <td>61003026333</td>\n",
       "      <td>61003026333</td>\n",
       "      <td>61003026333</td>\n",
       "      <td>61003026333</td>\n",
       "    </tr>\n",
       "    <tr>\n",
       "      <th>2</th>\n",
       "      <td>3</td>\n",
       "      <td>5142131721</td>\n",
       "      <td>2010-01-01</td>\n",
       "      <td>4503082993600</td>\n",
       "      <td>OFFICE DEPOT #191</td>\n",
       "      <td>MD</td>\n",
       "      <td>20706.0</td>\n",
       "      <td>P</td>\n",
       "      <td>178.49</td>\n",
       "      <td>0</td>\n",
       "      <td>...</td>\n",
       "      <td>20706.0</td>\n",
       "      <td>20706.0</td>\n",
       "      <td>20706.0</td>\n",
       "      <td>4503082993600</td>\n",
       "      <td>4503082993600</td>\n",
       "      <td>4503082993600</td>\n",
       "      <td>4503082993600</td>\n",
       "      <td>4503082993600</td>\n",
       "      <td>4503082993600</td>\n",
       "      <td>4503082993600</td>\n",
       "    </tr>\n",
       "    <tr>\n",
       "      <th>3</th>\n",
       "      <td>4</td>\n",
       "      <td>5142148452</td>\n",
       "      <td>2010-01-01</td>\n",
       "      <td>5509006296254</td>\n",
       "      <td>FEDEX SHP 12/28/09 AB#</td>\n",
       "      <td>TN</td>\n",
       "      <td>38118.0</td>\n",
       "      <td>P</td>\n",
       "      <td>3.62</td>\n",
       "      <td>0</td>\n",
       "      <td>...</td>\n",
       "      <td>38118.0</td>\n",
       "      <td>38118.0</td>\n",
       "      <td>38118.0</td>\n",
       "      <td>5509006296254</td>\n",
       "      <td>5509006296254</td>\n",
       "      <td>5509006296254</td>\n",
       "      <td>5509006296254</td>\n",
       "      <td>5509006296254</td>\n",
       "      <td>5509006296254</td>\n",
       "      <td>5509006296254</td>\n",
       "    </tr>\n",
       "    <tr>\n",
       "      <th>4</th>\n",
       "      <td>5</td>\n",
       "      <td>5142190439</td>\n",
       "      <td>2010-01-01</td>\n",
       "      <td>5509006296254</td>\n",
       "      <td>FEDEX SHP 12/23/09 AB#</td>\n",
       "      <td>TN</td>\n",
       "      <td>38118.0</td>\n",
       "      <td>P</td>\n",
       "      <td>3.62</td>\n",
       "      <td>0</td>\n",
       "      <td>...</td>\n",
       "      <td>38118.0</td>\n",
       "      <td>38118.0</td>\n",
       "      <td>38118.0</td>\n",
       "      <td>5509006296254</td>\n",
       "      <td>5509006296254</td>\n",
       "      <td>5509006296254</td>\n",
       "      <td>5509006296254</td>\n",
       "      <td>5509006296254</td>\n",
       "      <td>5509006296254</td>\n",
       "      <td>5509006296254</td>\n",
       "    </tr>\n",
       "  </tbody>\n",
       "</table>\n",
       "<p>5 rows × 25 columns</p>\n",
       "</div>"
      ],
      "text/plain": [
       "   Recnum     Cardnum       Date       Merchnum        Merch description  \\\n",
       "0       1  5142190439 2010-01-01  5509006296254   FEDEX SHP 12/23/09 AB#   \n",
       "1       2  5142183973 2010-01-01    61003026333  SERVICE MERCHANDISE #81   \n",
       "2       3  5142131721 2010-01-01  4503082993600        OFFICE DEPOT #191   \n",
       "3       4  5142148452 2010-01-01  5509006296254   FEDEX SHP 12/28/09 AB#   \n",
       "4       5  5142190439 2010-01-01  5509006296254   FEDEX SHP 12/23/09 AB#   \n",
       "\n",
       "  Merch state  Merch zip Transtype  Amount  Fraud  ... Merch zip2 Merch zip3  \\\n",
       "0          TN    38118.0         P    3.62      0  ...    38118.0    38118.0   \n",
       "1          MA     1803.0         P   31.42      0  ...     1803.0     1803.0   \n",
       "2          MD    20706.0         P  178.49      0  ...    20706.0    20706.0   \n",
       "3          TN    38118.0         P    3.62      0  ...    38118.0    38118.0   \n",
       "4          TN    38118.0         P    3.62      0  ...    38118.0    38118.0   \n",
       "\n",
       "  Merch zip4      Merchnum0      Merchnum1      Merchnum2      Merchnum3  \\\n",
       "0    38118.0  5509006296254  5509006296254  5509006296254  5509006296254   \n",
       "1     1803.0    61003026333    61003026333    61003026333    61003026333   \n",
       "2    20706.0  4503082993600  4503082993600  4503082993600  4503082993600   \n",
       "3    38118.0  5509006296254  5509006296254  5509006296254  5509006296254   \n",
       "4    38118.0  5509006296254  5509006296254  5509006296254  5509006296254   \n",
       "\n",
       "       Merchnum4      Merchnum5      Merchnum6  \n",
       "0  5509006296254  5509006296254  5509006296254  \n",
       "1    61003026333    61003026333    61003026333  \n",
       "2  4503082993600  4503082993600  4503082993600  \n",
       "3  5509006296254  5509006296254  5509006296254  \n",
       "4  5509006296254  5509006296254  5509006296254  \n",
       "\n",
       "[5 rows x 25 columns]"
      ]
     },
     "execution_count": 97,
     "metadata": {},
     "output_type": "execute_result"
    }
   ],
   "source": [
    "df2.head()"
   ]
  },
  {
   "cell_type": "code",
   "execution_count": 98,
   "id": "0c97e1b2",
   "metadata": {},
   "outputs": [
    {
     "data": {
      "text/html": [
       "<div>\n",
       "<style scoped>\n",
       "    .dataframe tbody tr th:only-of-type {\n",
       "        vertical-align: middle;\n",
       "    }\n",
       "\n",
       "    .dataframe tbody tr th {\n",
       "        vertical-align: top;\n",
       "    }\n",
       "\n",
       "    .dataframe thead th {\n",
       "        text-align: right;\n",
       "    }\n",
       "</style>\n",
       "<table border=\"1\" class=\"dataframe\">\n",
       "  <thead>\n",
       "    <tr style=\"text-align: right;\">\n",
       "      <th></th>\n",
       "      <th>Recnum</th>\n",
       "      <th>Cardnum</th>\n",
       "      <th>Date</th>\n",
       "      <th>Merchnum</th>\n",
       "      <th>Merch description</th>\n",
       "      <th>Merch state</th>\n",
       "      <th>Merch zip</th>\n",
       "      <th>Transtype</th>\n",
       "      <th>Amount</th>\n",
       "      <th>Fraud</th>\n",
       "    </tr>\n",
       "  </thead>\n",
       "  <tbody>\n",
       "    <tr>\n",
       "      <th>0</th>\n",
       "      <td>1</td>\n",
       "      <td>5142190439</td>\n",
       "      <td>2010-01-01</td>\n",
       "      <td>5509006296254</td>\n",
       "      <td>FEDEX SHP 12/23/09 AB#</td>\n",
       "      <td>TN</td>\n",
       "      <td>38118.0</td>\n",
       "      <td>P</td>\n",
       "      <td>3.62</td>\n",
       "      <td>0</td>\n",
       "    </tr>\n",
       "    <tr>\n",
       "      <th>1</th>\n",
       "      <td>2</td>\n",
       "      <td>5142183973</td>\n",
       "      <td>2010-01-01</td>\n",
       "      <td>61003026333</td>\n",
       "      <td>SERVICE MERCHANDISE #81</td>\n",
       "      <td>MA</td>\n",
       "      <td>1803.0</td>\n",
       "      <td>P</td>\n",
       "      <td>31.42</td>\n",
       "      <td>0</td>\n",
       "    </tr>\n",
       "    <tr>\n",
       "      <th>2</th>\n",
       "      <td>3</td>\n",
       "      <td>5142131721</td>\n",
       "      <td>2010-01-01</td>\n",
       "      <td>4503082993600</td>\n",
       "      <td>OFFICE DEPOT #191</td>\n",
       "      <td>MD</td>\n",
       "      <td>20706.0</td>\n",
       "      <td>P</td>\n",
       "      <td>178.49</td>\n",
       "      <td>0</td>\n",
       "    </tr>\n",
       "    <tr>\n",
       "      <th>3</th>\n",
       "      <td>4</td>\n",
       "      <td>5142148452</td>\n",
       "      <td>2010-01-01</td>\n",
       "      <td>5509006296254</td>\n",
       "      <td>FEDEX SHP 12/28/09 AB#</td>\n",
       "      <td>TN</td>\n",
       "      <td>38118.0</td>\n",
       "      <td>P</td>\n",
       "      <td>3.62</td>\n",
       "      <td>0</td>\n",
       "    </tr>\n",
       "    <tr>\n",
       "      <th>4</th>\n",
       "      <td>5</td>\n",
       "      <td>5142190439</td>\n",
       "      <td>2010-01-01</td>\n",
       "      <td>5509006296254</td>\n",
       "      <td>FEDEX SHP 12/23/09 AB#</td>\n",
       "      <td>TN</td>\n",
       "      <td>38118.0</td>\n",
       "      <td>P</td>\n",
       "      <td>3.62</td>\n",
       "      <td>0</td>\n",
       "    </tr>\n",
       "  </tbody>\n",
       "</table>\n",
       "</div>"
      ],
      "text/plain": [
       "   Recnum     Cardnum       Date       Merchnum        Merch description  \\\n",
       "0       1  5142190439 2010-01-01  5509006296254   FEDEX SHP 12/23/09 AB#   \n",
       "1       2  5142183973 2010-01-01    61003026333  SERVICE MERCHANDISE #81   \n",
       "2       3  5142131721 2010-01-01  4503082993600        OFFICE DEPOT #191   \n",
       "3       4  5142148452 2010-01-01  5509006296254   FEDEX SHP 12/28/09 AB#   \n",
       "4       5  5142190439 2010-01-01  5509006296254   FEDEX SHP 12/23/09 AB#   \n",
       "\n",
       "  Merch state  Merch zip Transtype  Amount  Fraud  \n",
       "0          TN    38118.0         P    3.62      0  \n",
       "1          MA     1803.0         P   31.42      0  \n",
       "2          MD    20706.0         P  178.49      0  \n",
       "3          TN    38118.0         P    3.62      0  \n",
       "4          TN    38118.0         P    3.62      0  "
      ]
     },
     "execution_count": 98,
     "metadata": {},
     "output_type": "execute_result"
    }
   ],
   "source": [
    "df.head()"
   ]
  },
  {
   "cell_type": "code",
   "execution_count": 99,
   "id": "b8547b92",
   "metadata": {},
   "outputs": [],
   "source": [
    "df_cleaned=df.copy()"
   ]
  },
  {
   "cell_type": "code",
   "execution_count": 100,
   "id": "2ff7fd25",
   "metadata": {},
   "outputs": [
    {
     "name": "stdout",
     "output_type": "stream",
     "text": [
      "0\n"
     ]
    }
   ],
   "source": [
    "df_cleaned['Merch state']=df2['Merch state4']\n",
    "print(len(df_cleaned.loc[df_cleaned['Merch state'].isna()]))"
   ]
  },
  {
   "cell_type": "code",
   "execution_count": 101,
   "id": "ab4f990f",
   "metadata": {},
   "outputs": [
    {
     "name": "stdout",
     "output_type": "stream",
     "text": [
      "0\n"
     ]
    }
   ],
   "source": [
    "df_cleaned['Merch zip']=df2['Merch zip4']\n",
    "print(len(df_cleaned.loc[df_cleaned['Merch zip'].isna()]))"
   ]
  },
  {
   "cell_type": "code",
   "execution_count": 102,
   "id": "1e29d4ce",
   "metadata": {},
   "outputs": [
    {
     "name": "stdout",
     "output_type": "stream",
     "text": [
      "0\n"
     ]
    }
   ],
   "source": [
    "df_cleaned['Merchnum']=df2['Merchnum6']\n",
    "print(len(df_cleaned.loc[df_cleaned['Merchnum'].isna()]))"
   ]
  },
  {
   "cell_type": "code",
   "execution_count": 103,
   "id": "12dc38d8",
   "metadata": {},
   "outputs": [
    {
     "name": "stdout",
     "output_type": "stream",
     "text": [
      "<class 'pandas.core.frame.DataFrame'>\n",
      "Int64Index: 96397 entries, 0 to 96752\n",
      "Data columns (total 10 columns):\n",
      " #   Column             Non-Null Count  Dtype         \n",
      "---  ------             --------------  -----         \n",
      " 0   Recnum             96397 non-null  int64         \n",
      " 1   Cardnum            96397 non-null  int64         \n",
      " 2   Date               96397 non-null  datetime64[ns]\n",
      " 3   Merchnum           96397 non-null  object        \n",
      " 4   Merch description  96397 non-null  object        \n",
      " 5   Merch state        96397 non-null  object        \n",
      " 6   Merch zip          96397 non-null  float64       \n",
      " 7   Transtype          96397 non-null  object        \n",
      " 8   Amount             96397 non-null  float64       \n",
      " 9   Fraud              96397 non-null  int64         \n",
      "dtypes: datetime64[ns](1), float64(2), int64(3), object(4)\n",
      "memory usage: 8.1+ MB\n"
     ]
    }
   ],
   "source": [
    "df_cleaned.info()"
   ]
  },
  {
   "cell_type": "code",
   "execution_count": 104,
   "id": "df70b2db",
   "metadata": {},
   "outputs": [],
   "source": [
    "df_cleaned['Merch zip'] = df_cleaned['Merch zip'].astype('int64') "
   ]
  },
  {
   "cell_type": "code",
   "execution_count": 105,
   "id": "ab7b4860",
   "metadata": {},
   "outputs": [],
   "source": [
    "df_cleaned['Merch description'] = df_cleaned['Merch description'].str.upper()"
   ]
  },
  {
   "cell_type": "code",
   "execution_count": 106,
   "id": "b2b8683e",
   "metadata": {},
   "outputs": [
    {
     "name": "stdout",
     "output_type": "stream",
     "text": [
      "<class 'pandas.core.frame.DataFrame'>\n",
      "Int64Index: 96397 entries, 0 to 96752\n",
      "Data columns (total 10 columns):\n",
      " #   Column             Non-Null Count  Dtype         \n",
      "---  ------             --------------  -----         \n",
      " 0   Recnum             96397 non-null  int64         \n",
      " 1   Cardnum            96397 non-null  int64         \n",
      " 2   Date               96397 non-null  datetime64[ns]\n",
      " 3   Merchnum           96397 non-null  object        \n",
      " 4   Merch description  96397 non-null  object        \n",
      " 5   Merch state        96397 non-null  object        \n",
      " 6   Merch zip          96397 non-null  int64         \n",
      " 7   Transtype          96397 non-null  object        \n",
      " 8   Amount             96397 non-null  float64       \n",
      " 9   Fraud              96397 non-null  int64         \n",
      "dtypes: datetime64[ns](1), float64(1), int64(4), object(4)\n",
      "memory usage: 8.1+ MB\n"
     ]
    }
   ],
   "source": [
    "df_cleaned.info()"
   ]
  },
  {
   "cell_type": "code",
   "execution_count": 107,
   "id": "29183ccb",
   "metadata": {},
   "outputs": [],
   "source": [
    "## saving cleaned data into csv file\n",
    "df_cleaned.to_csv('final_cleaned_data.csv',index=False)"
   ]
  },
  {
   "cell_type": "code",
   "execution_count": 108,
   "id": "72b400b2",
   "metadata": {},
   "outputs": [],
   "source": [
    "def count_zeros(df_cleaned):\n",
    "    count=0\n",
    "    for i in df_cleaned:\n",
    "        if i==0:\n",
    "            count+=1\n",
    "    return count"
   ]
  },
  {
   "cell_type": "code",
   "execution_count": 109,
   "id": "b9e5ba6c",
   "metadata": {},
   "outputs": [
    {
     "data": {
      "text/html": [
       "<div>\n",
       "<style scoped>\n",
       "    .dataframe tbody tr th:only-of-type {\n",
       "        vertical-align: middle;\n",
       "    }\n",
       "\n",
       "    .dataframe tbody tr th {\n",
       "        vertical-align: top;\n",
       "    }\n",
       "\n",
       "    .dataframe thead th {\n",
       "        text-align: right;\n",
       "    }\n",
       "</style>\n",
       "<table border=\"1\" class=\"dataframe\">\n",
       "  <thead>\n",
       "    <tr style=\"text-align: right;\">\n",
       "      <th></th>\n",
       "      <th>Field Name</th>\n",
       "      <th>Field Type</th>\n",
       "      <th># Records Have Values</th>\n",
       "      <th>% Populated</th>\n",
       "      <th># Zeros</th>\n",
       "      <th># Unique Values</th>\n",
       "      <th>Most Common</th>\n",
       "    </tr>\n",
       "  </thead>\n",
       "  <tbody>\n",
       "    <tr>\n",
       "      <th>0</th>\n",
       "      <td>Recnum</td>\n",
       "      <td>categorical</td>\n",
       "      <td>96397</td>\n",
       "      <td>100.0%</td>\n",
       "      <td>0</td>\n",
       "      <td>96397</td>\n",
       "      <td>1</td>\n",
       "    </tr>\n",
       "    <tr>\n",
       "      <th>1</th>\n",
       "      <td>Cardnum</td>\n",
       "      <td>categorical</td>\n",
       "      <td>96397</td>\n",
       "      <td>100.0%</td>\n",
       "      <td>0</td>\n",
       "      <td>1643</td>\n",
       "      <td>5142148452</td>\n",
       "    </tr>\n",
       "    <tr>\n",
       "      <th>2</th>\n",
       "      <td>Date</td>\n",
       "      <td>categorical</td>\n",
       "      <td>96397</td>\n",
       "      <td>100.0%</td>\n",
       "      <td>0</td>\n",
       "      <td>365</td>\n",
       "      <td>2010-02-28 00:00:00</td>\n",
       "    </tr>\n",
       "    <tr>\n",
       "      <th>3</th>\n",
       "      <td>Merchnum</td>\n",
       "      <td>categorical</td>\n",
       "      <td>96397</td>\n",
       "      <td>100.0%</td>\n",
       "      <td>0</td>\n",
       "      <td>13117</td>\n",
       "      <td>930090121224</td>\n",
       "    </tr>\n",
       "    <tr>\n",
       "      <th>4</th>\n",
       "      <td>Merch description</td>\n",
       "      <td>categorical</td>\n",
       "      <td>96397</td>\n",
       "      <td>100.0%</td>\n",
       "      <td>0</td>\n",
       "      <td>12964</td>\n",
       "      <td>GSA-FSS-ADV</td>\n",
       "    </tr>\n",
       "    <tr>\n",
       "      <th>5</th>\n",
       "      <td>Merch state</td>\n",
       "      <td>categorical</td>\n",
       "      <td>96397</td>\n",
       "      <td>100.0%</td>\n",
       "      <td>0</td>\n",
       "      <td>91</td>\n",
       "      <td>TN</td>\n",
       "    </tr>\n",
       "    <tr>\n",
       "      <th>6</th>\n",
       "      <td>Merch zip</td>\n",
       "      <td>categorical</td>\n",
       "      <td>96397</td>\n",
       "      <td>100.0%</td>\n",
       "      <td>0</td>\n",
       "      <td>4595</td>\n",
       "      <td>38118</td>\n",
       "    </tr>\n",
       "    <tr>\n",
       "      <th>7</th>\n",
       "      <td>Transtype</td>\n",
       "      <td>categorical</td>\n",
       "      <td>96397</td>\n",
       "      <td>100.0%</td>\n",
       "      <td>0</td>\n",
       "      <td>1</td>\n",
       "      <td>P</td>\n",
       "    </tr>\n",
       "    <tr>\n",
       "      <th>8</th>\n",
       "      <td>Amount</td>\n",
       "      <td>categorical</td>\n",
       "      <td>96397</td>\n",
       "      <td>100.0%</td>\n",
       "      <td>0</td>\n",
       "      <td>34888</td>\n",
       "      <td>3.62</td>\n",
       "    </tr>\n",
       "    <tr>\n",
       "      <th>9</th>\n",
       "      <td>Fraud</td>\n",
       "      <td>categorical</td>\n",
       "      <td>96397</td>\n",
       "      <td>100.0%</td>\n",
       "      <td>95338</td>\n",
       "      <td>2</td>\n",
       "      <td>0</td>\n",
       "    </tr>\n",
       "  </tbody>\n",
       "</table>\n",
       "</div>"
      ],
      "text/plain": [
       "          Field Name   Field Type  # Records Have Values % Populated  # Zeros  \\\n",
       "0             Recnum  categorical                  96397      100.0%        0   \n",
       "1            Cardnum  categorical                  96397      100.0%        0   \n",
       "2               Date  categorical                  96397      100.0%        0   \n",
       "3           Merchnum  categorical                  96397      100.0%        0   \n",
       "4  Merch description  categorical                  96397      100.0%        0   \n",
       "5        Merch state  categorical                  96397      100.0%        0   \n",
       "6          Merch zip  categorical                  96397      100.0%        0   \n",
       "7          Transtype  categorical                  96397      100.0%        0   \n",
       "8             Amount  categorical                  96397      100.0%        0   \n",
       "9              Fraud  categorical                  96397      100.0%    95338   \n",
       "\n",
       "   # Unique Values          Most Common  \n",
       "0            96397                    1  \n",
       "1             1643           5142148452  \n",
       "2              365  2010-02-28 00:00:00  \n",
       "3            13117         930090121224  \n",
       "4            12964          GSA-FSS-ADV  \n",
       "5               91                   TN  \n",
       "6             4595                38118  \n",
       "7                1                    P  \n",
       "8            34888                 3.62  \n",
       "9                2                    0  "
      ]
     },
     "execution_count": 109,
     "metadata": {},
     "output_type": "execute_result"
    }
   ],
   "source": [
    "statistics_of_data = []\n",
    "for col in [\"Recnum\",\"Cardnum\",\"Date\",\"Merchnum\",\"Merch description\",\"Merch state\",\"Merch zip\",\"Transtype\",\"Amount\",\"Fraud\"]:\n",
    "    statistics_of_data.append((col,\n",
    "                             'categorical',\n",
    "                             df_cleaned[col].notnull().sum(),\n",
    "                             f'{df_cleaned[col].notnull().sum()/df_cleaned.shape[0]*100}%',\n",
    "                             count_zeros(df_cleaned[col]),\n",
    "                             df_cleaned[col].nunique(),\n",
    "                            df_cleaned[col].mode()[0]\n",
    "                            \n",
    "                             ))\n",
    "stats_df = pd.DataFrame(statistics_of_data, columns=['Field Name', 'Field Type','# Records Have Values', '% Populated', '# Zeros','# Unique Values', 'Most Common',])\n",
    "stats_df\n",
    "\n"
   ]
  },
  {
   "cell_type": "code",
   "execution_count": null,
   "id": "4adb72c1",
   "metadata": {},
   "outputs": [],
   "source": []
  }
 ],
 "metadata": {
  "kernelspec": {
   "display_name": "Python 3 (ipykernel)",
   "language": "python",
   "name": "python3"
  },
  "language_info": {
   "codemirror_mode": {
    "name": "ipython",
    "version": 3
   },
   "file_extension": ".py",
   "mimetype": "text/x-python",
   "name": "python",
   "nbconvert_exporter": "python",
   "pygments_lexer": "ipython3",
   "version": "3.10.8"
  }
 },
 "nbformat": 4,
 "nbformat_minor": 5
}
